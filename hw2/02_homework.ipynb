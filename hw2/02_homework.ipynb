{
 "cells": [
  {
   "cell_type": "markdown",
   "id": "43fc8290",
   "metadata": {},
   "source": [
    "## Задание 1."
   ]
  },
  {
   "cell_type": "markdown",
   "id": "b06a5ace",
   "metadata": {},
   "source": [
    "Посчитайте частоты для 5-грамм в корпусе lenta.txt. двумя способами:  \n",
    "1) lenta.txt -> sent_tokenize (russian) -> word_tokenize -> ngrammer  \n",
    "2) lenta.txt -> word_tokene(preserve_line=True) - ngrammer  \n",
    "    \n",
    "Проанализируйте топ-20 самых частотных нграмм и проверьте есть ли различия? "
   ]
  },
  {
   "cell_type": "code",
   "execution_count": 8,
   "id": "fcfe6a96-b23b-41a0-b7b9-1d9f974dfdee",
   "metadata": {},
   "outputs": [],
   "source": [
    "data_path = \"data/lenta.txt\"\n",
    "with open(data_path, \"r\", encoding=\"utf-8\") as file:\n",
    "    data = file.read()"
   ]
  },
  {
   "cell_type": "code",
   "execution_count": 9,
   "id": "957f5656",
   "metadata": {},
   "outputs": [],
   "source": [
    "import nltk\n",
    "# nltk.download('punkt_tab')\n",
    "from nltk import sent_tokenize\n",
    "from nltk.tokenize import word_tokenize"
   ]
  },
  {
   "cell_type": "code",
   "execution_count": 30,
   "id": "8fe4951e-7406-4601-a943-71b87b3b1fcc",
   "metadata": {},
   "outputs": [],
   "source": [
    "sentences1 = sent_tokenize(data, language='russian')\n",
    "sentences1 = [word_tokenize(sentence) for sentence in sentences1]"
   ]
  },
  {
   "cell_type": "code",
   "execution_count": 31,
   "id": "0566988d-6d3d-4636-bc05-1cfa589a44df",
   "metadata": {},
   "outputs": [],
   "source": [
    "from collections import Counter\n",
    "\n",
    "def ngrammer(tokens, n=2):\n",
    "    ngrams = []\n",
    "    for i in range(len(tokens)-n+1):\n",
    "        ngrams.append(' '.join(tokens[i:i+n]))\n",
    "    return ngrams\n",
    "\n",
    "def get_20_most_common(sentences, n):\n",
    "    counter = Counter()\n",
    "    for sentence in sentences:\n",
    "        counter.update(ngrammer(sentence, n))\n",
    "    \n",
    "    return counter.most_common(20)\n",
    "    "
   ]
  },
  {
   "cell_type": "code",
   "execution_count": 40,
   "id": "83c72eb3-96a2-46fb-bdde-910290e306aa",
   "metadata": {},
   "outputs": [
    {
     "data": {
      "text/plain": [
       "[(\"сообщает РИА `` Новости ''\", 1318),\n",
       " (\"РИА `` Новости '' .\", 1220),\n",
       " (', сообщает РИА `` Новости', 832),\n",
       " (\"РИА `` Новости '' ,\", 612),\n",
       " (\"передает РИА `` Новости ''\", 558),\n",
       " (', передает РИА `` Новости', 463),\n",
       " (\"РИА `` Новости '' со\", 424),\n",
       " (\"`` Новости '' со ссылкой\", 404),\n",
       " (\"Новости '' со ссылкой на\", 400),\n",
       " (\"РИА `` Новости '' в\", 382),\n",
       " (\"сообщили РИА `` Новости ''\", 326),\n",
       " ('Как сообщает РИА `` Новости', 311),\n",
       " (\", сообщает `` Интерфакс ''\", 256),\n",
       " (\"сообщает `` Интерфакс '' .\", 211),\n",
       " (\"`` Эхо Москвы '' .\", 208),\n",
       " ('Как сообщили РИА `` Новости', 206),\n",
       " (\"этом РИА `` Новости ''\", 188),\n",
       " ('Об этом РИА `` Новости', 182),\n",
       " (\"`` Интерфакс '' со ссылкой\", 179),\n",
       " (\"Интерфакс '' со ссылкой на\", 179)]"
      ]
     },
     "execution_count": 40,
     "metadata": {},
     "output_type": "execute_result"
    }
   ],
   "source": [
    "result1 = get_20_most_common(sentences1, 5)\n",
    "result1"
   ]
  },
  {
   "cell_type": "code",
   "execution_count": 33,
   "id": "075d7235-62df-46ec-8a2e-a0fbfa6af1c4",
   "metadata": {},
   "outputs": [],
   "source": [
    "sentences2 = word_tokenize(data, preserve_line=True)"
   ]
  },
  {
   "cell_type": "code",
   "execution_count": 41,
   "id": "d4583494-e6b5-469c-a029-8448ec45706d",
   "metadata": {},
   "outputs": [
    {
     "data": {
      "text/plain": [
       "[(\"сообщает РИА `` Новости ''\", 1318),\n",
       " (\"РИА `` Новости '' .\", 1220),\n",
       " (', сообщает РИА `` Новости', 829),\n",
       " (\"РИА `` Новости '' ,\", 612),\n",
       " (\"передает РИА `` Новости ''\", 558),\n",
       " (', передает РИА `` Новости', 461),\n",
       " (\"РИА `` Новости '' со\", 424),\n",
       " (\"`` Новости '' со ссылкой\", 404),\n",
       " (\"Новости '' со ссылкой на\", 400),\n",
       " (\"РИА `` Новости '' в\", 382),\n",
       " (\"сообщили РИА `` Новости ''\", 326),\n",
       " ('Как сообщает РИА `` Новости', 311),\n",
       " (\", сообщает `` Интерфакс ''\", 256),\n",
       " (\"сообщает `` Интерфакс '' .\", 211),\n",
       " (\"`` Эхо Москвы '' .\", 208),\n",
       " ('Как сообщили РИА `` Новости', 206),\n",
       " (\"этом РИА `` Новости ''\", 188),\n",
       " ('Об этом РИА `` Новости', 182),\n",
       " (\"`` Интерфакс '' со ссылкой\", 179),\n",
       " (\"Интерфакс '' со ссылкой на\", 179)]"
      ]
     },
     "execution_count": 41,
     "metadata": {},
     "output_type": "execute_result"
    }
   ],
   "source": [
    "result2 = get_20_most_common([sentences2], 5)\n",
    "result2"
   ]
  },
  {
   "cell_type": "code",
   "execution_count": 51,
   "id": "5865a163-ba32-451d-beec-2be4cea5f1d6",
   "metadata": {},
   "outputs": [
    {
     "name": "stdout",
     "output_type": "stream",
     "text": [
      "\"сообщает РИА `` Новости ''\"\t\"сообщает РИА `` Новости ''\"\tнграмма совпадает\n",
      "1318\t1318\tколичество совпадает\n",
      "\n",
      "\"РИА `` Новости '' .\"\t\"РИА `` Новости '' .\"\tнграмма совпадает\n",
      "1220\t1220\tколичество совпадает\n",
      "\n",
      "', сообщает РИА `` Новости'\t', сообщает РИА `` Новости'\tнграмма совпадает\n",
      "832\t829\tколичество не совпадает\n",
      "\n",
      "\"РИА `` Новости '' ,\"\t\"РИА `` Новости '' ,\"\tнграмма совпадает\n",
      "612\t612\tколичество совпадает\n",
      "\n",
      "\"передает РИА `` Новости ''\"\t\"передает РИА `` Новости ''\"\tнграмма совпадает\n",
      "558\t558\tколичество совпадает\n",
      "\n",
      "', передает РИА `` Новости'\t', передает РИА `` Новости'\tнграмма совпадает\n",
      "463\t461\tколичество не совпадает\n",
      "\n",
      "\"РИА `` Новости '' со\"\t\"РИА `` Новости '' со\"\tнграмма совпадает\n",
      "424\t424\tколичество совпадает\n",
      "\n",
      "\"`` Новости '' со ссылкой\"\t\"`` Новости '' со ссылкой\"\tнграмма совпадает\n",
      "404\t404\tколичество совпадает\n",
      "\n",
      "\"Новости '' со ссылкой на\"\t\"Новости '' со ссылкой на\"\tнграмма совпадает\n",
      "400\t400\tколичество совпадает\n",
      "\n",
      "\"РИА `` Новости '' в\"\t\"РИА `` Новости '' в\"\tнграмма совпадает\n",
      "382\t382\tколичество совпадает\n",
      "\n",
      "\"сообщили РИА `` Новости ''\"\t\"сообщили РИА `` Новости ''\"\tнграмма совпадает\n",
      "326\t326\tколичество совпадает\n",
      "\n",
      "'Как сообщает РИА `` Новости'\t'Как сообщает РИА `` Новости'\tнграмма совпадает\n",
      "311\t311\tколичество совпадает\n",
      "\n",
      "\", сообщает `` Интерфакс ''\"\t\", сообщает `` Интерфакс ''\"\tнграмма совпадает\n",
      "256\t256\tколичество совпадает\n",
      "\n",
      "\"сообщает `` Интерфакс '' .\"\t\"сообщает `` Интерфакс '' .\"\tнграмма совпадает\n",
      "211\t211\tколичество совпадает\n",
      "\n",
      "\"`` Эхо Москвы '' .\"\t\"`` Эхо Москвы '' .\"\tнграмма совпадает\n",
      "208\t208\tколичество совпадает\n",
      "\n",
      "'Как сообщили РИА `` Новости'\t'Как сообщили РИА `` Новости'\tнграмма совпадает\n",
      "206\t206\tколичество совпадает\n",
      "\n",
      "\"этом РИА `` Новости ''\"\t\"этом РИА `` Новости ''\"\tнграмма совпадает\n",
      "188\t188\tколичество совпадает\n",
      "\n",
      "'Об этом РИА `` Новости'\t'Об этом РИА `` Новости'\tнграмма совпадает\n",
      "182\t182\tколичество совпадает\n",
      "\n",
      "\"`` Интерфакс '' со ссылкой\"\t\"`` Интерфакс '' со ссылкой\"\tнграмма совпадает\n",
      "179\t179\tколичество совпадает\n",
      "\n",
      "\"Интерфакс '' со ссылкой на\"\t\"Интерфакс '' со ссылкой на\"\tнграмма совпадает\n",
      "179\t179\tколичество совпадает\n",
      "\n"
     ]
    }
   ],
   "source": [
    "ngramm_verdict = (\"нграмма не совпадает\", \"нграмма совпадает\")\n",
    "count_verdict  = (\"количество не совпадает\", \"количество совпадает\")\n",
    "\n",
    "for elem1, elem2 in zip(result1, result2):\n",
    "    ngramm1, count1 = elem1\n",
    "    ngramm2, count2 = elem2\n",
    "\n",
    "    print(repr(ngramm1), repr(ngramm2), ngramm_verdict[ngramm1 == ngramm2], sep=\"\\t\")\n",
    "    print(count1, count2, count_verdict[count1 == count2], sep=\"\\t\", end=\"\\n\\n\")"
   ]
  },
  {
   "cell_type": "markdown",
   "id": "b583abd1-d046-49a9-9472-3d0826b873ae",
   "metadata": {},
   "source": [
    "<h1>Результат</h1>\n",
    "По большей части пайплайны обработки работают одинаково, однако второй вариант (word_tokenize напрямую) иногда теряет часть валидных совпадений."
   ]
  },
  {
   "cell_type": "markdown",
   "id": "b5781f34",
   "metadata": {},
   "source": [
    "## Задание 2."
   ]
  },
  {
   "cell_type": "markdown",
   "id": "4292716e",
   "metadata": {},
   "source": [
    "Найдите какую-то инетересную (по вашему мнению) закономерность на https://books.google.com/ngrams/ для русского языка (с 1990 по 2022)\n",
    "\n",
    "Вставьте сюда скриншот"
   ]
  },
  {
   "cell_type": "markdown",
   "id": "69c4a51a-cece-4851-9b81-335f55f0a317",
   "metadata": {},
   "source": [
    "<img src=\"data/1.png\" align=\"center\">\n",
    "<img src=\"data/2.png\" align=\"center\"> \n",
    "<img src=\"data/3.png\" align=\"center\"> "
   ]
  },
  {
   "cell_type": "markdown",
   "id": "8a0a89ec",
   "metadata": {},
   "source": [
    "## Заданиe 3"
   ]
  },
  {
   "cell_type": "markdown",
   "id": "b40c35e9",
   "metadata": {},
   "source": [
    "Когда мы разбирали PMI мы использовали такую функцию:"
   ]
  },
  {
   "cell_type": "code",
   "execution_count": null,
   "id": "221f1bc0",
   "metadata": {},
   "outputs": [],
   "source": [
    "def scorer_simple(word_count_a, word_count_b, bigram_count, *args):\n",
    "    try:\n",
    "        score = bigram_count/((word_count_a+word_count_b))\n",
    "    except ZeroDivisionError:\n",
    "        return 0\n",
    "    return score"
   ]
  },
  {
   "cell_type": "markdown",
   "id": "53fd2def",
   "metadata": {},
   "source": [
    "Но если вы посмотрите на определение в википедии, то увидите, что формула немного другая ![](https://wikimedia.org/api/rest_v1/media/math/render/svg/094243d23c19d2d032f6bb26c4dc4f47d98d32f8)"
   ]
  },
  {
   "cell_type": "markdown",
   "id": "b1905862",
   "metadata": {},
   "source": [
    "Перепишите функцию, чтобы она точно соответствовала этому определению. Расчитайте PMI для всех биграммов также как мы делали в семинаре с помощью функции score_bigrams используя изначальный scorer и обновленный. Посмотрите есть ли разница в топ-10 биграммов. Подумайте почему результаты совпадают/отличаются?\n",
    "\n",
    "*Подсказка: для вероятностей можно поделить на количество слов в корпусе"
   ]
  },
  {
   "cell_type": "code",
   "execution_count": null,
   "id": "1431f618",
   "metadata": {},
   "outputs": [],
   "source": []
  },
  {
   "cell_type": "markdown",
   "id": "0a6e1c99",
   "metadata": {},
   "source": [
    "## Задание 4*\n",
    "\n",
    "Обновите функцию получившуюся в предыдущем задании так, чтобы вместо произведения/деления вероятностей использовались сложение и вычитание логирифмов. "
   ]
  },
  {
   "cell_type": "code",
   "execution_count": null,
   "id": "3f55a362",
   "metadata": {},
   "outputs": [],
   "source": []
  },
  {
   "cell_type": "markdown",
   "id": "b22785f4",
   "metadata": {},
   "source": [
    "## Задание 5"
   ]
  },
  {
   "cell_type": "markdown",
   "id": "a1121e53",
   "metadata": {},
   "source": [
    "Исследуйте gensim.models.Phrases. Проверьте сколько дефолтных scoring функций есть в этом классе. Попробуйте все доступные по умолчанию scoring функции и попробуйте настраивать для них значение threshold и min_count. Попробуйте сделать так, чтобы собиралось как можно больше нграммов. Попробуйте строить последовательность gensim.models.Phrases, чтобы строить более длинные нграммы"
   ]
  },
  {
   "cell_type": "code",
   "execution_count": null,
   "id": "716fba84",
   "metadata": {},
   "outputs": [],
   "source": []
  }
 ],
 "metadata": {
  "kernelspec": {
   "display_name": "Python 3 (ipykernel)",
   "language": "python",
   "name": "python3"
  },
  "language_info": {
   "codemirror_mode": {
    "name": "ipython",
    "version": 3
   },
   "file_extension": ".py",
   "mimetype": "text/x-python",
   "name": "python",
   "nbconvert_exporter": "python",
   "pygments_lexer": "ipython3",
   "version": "3.12.5"
  }
 },
 "nbformat": 4,
 "nbformat_minor": 5
}
