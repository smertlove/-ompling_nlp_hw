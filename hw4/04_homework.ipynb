{
 "cells": [
  {
   "cell_type": "markdown",
   "id": "48abae58",
   "metadata": {},
   "source": [
    "# Задание 1\n",
    "\n",
    "\n",
    "Выберите 5 языков в википедии (не тех, что использовались в семинаре). Скачайте по 10 случайных статей для каждого языка. Предобработайте тексты, удаляя лишние теги/отступы/разделители (если они есть). Разделите тексты на предложения и создайте датасет, в котором каждому предложению соответствует язык. Кластеризуйте тексты, используя эбмединг модель из прошлого семинара и любой алгоритм кластеризации. Проверьте качество кластеризации с помощь метрики ARI. Отдельно проанализируйте 3 ошибочно кластеризованных текста (если такие есть)."
   ]
  },
  {
   "cell_type": "code",
   "execution_count": 19,
   "id": "1769f07a",
   "metadata": {},
   "outputs": [],
   "source": [
    "import wikipedia\n",
    "import numpy as np"
   ]
  },
  {
   "cell_type": "code",
   "execution_count": 20,
   "id": "f52a5b1d",
   "metadata": {},
   "outputs": [],
   "source": [
    "def get_random_page():\n",
    "    try:\n",
    "        return wikipedia.random(1)\n",
    "    except Exception:\n",
    "        return get_random_page()\n",
    "    \n",
    "def get_page_by_name(name:str):\n",
    "    try:\n",
    "        return wikipedia.page(name)\n",
    "    except wikipedia.DisambiguationError as e:\n",
    "        random_option = np.random.choice(e.options)\n",
    "        return get_page_by_name(random_option)\n"
   ]
  },
  {
   "cell_type": "markdown",
   "id": "3b506e28",
   "metadata": {},
   "source": [
    "####  Код ниже можнно не запускать, под ним ячейка со спиклованным объектом"
   ]
  },
  {
   "cell_type": "code",
   "execution_count": 29,
   "id": "d18c8826",
   "metadata": {},
   "outputs": [
    {
     "name": "stderr",
     "output_type": "stream",
     "text": [
      "d:\\HSE subj data\\актуальные проблемы компьютерной лингвистики\\.venv\\Lib\\site-packages\\wikipedia\\wikipedia.py:389: GuessedAtParserWarning: No parser was explicitly specified, so I'm using the best available HTML parser for this system (\"html.parser\"). This usually isn't a problem, but if you run this code on another system, or in a different virtual environment, it may use a different parser and behave differently.\n",
      "\n",
      "The code that caused this warning is on line 389 of the file d:\\HSE subj data\\актуальные проблемы компьютерной лингвистики\\.venv\\Lib\\site-packages\\wikipedia\\wikipedia.py. To get rid of this warning, pass the additional argument 'features=\"html.parser\"' to the BeautifulSoup constructor.\n",
      "\n",
      "  lis = BeautifulSoup(html).find_all('li')\n"
     ]
    }
   ],
   "source": [
    "lang_to_pages = {\n",
    "    \"zh\": dict(),  #  китайский\n",
    "    \"ja\": dict(),  #  японский\n",
    "    \"ko\": dict(),  #  корейский\n",
    "    \"hi\": dict(),  #  хинди\n",
    "    \"lv\": dict(),  #  латышский\n",
    "}\n",
    "for lang in lang_to_pages:\n",
    "    wikipedia.set_lang(lang)\n",
    "    for _ in range(10):\n",
    "        random_page = get_random_page()\n",
    "        lang_to_pages[lang][random_page] = get_page_by_name(random_page).content"
   ]
  },
  {
   "cell_type": "code",
   "execution_count": 2,
   "id": "303510cf",
   "metadata": {},
   "outputs": [],
   "source": [
    "import pickle"
   ]
  },
  {
   "cell_type": "code",
   "execution_count": 34,
   "id": "a38d0235",
   "metadata": {},
   "outputs": [],
   "source": [
    "with open(r\"data/lang_to_pages.pkl\", \"wb\") as file:\n",
    "    pickle.dump(lang_to_pages, file)"
   ]
  },
  {
   "cell_type": "markdown",
   "id": "f3d32714",
   "metadata": {},
   "source": [
    "## Загрузка объекта"
   ]
  },
  {
   "cell_type": "code",
   "execution_count": 125,
   "id": "eafbcf8b",
   "metadata": {},
   "outputs": [],
   "source": [
    "with open(r\"data/lang_to_pages_COPY.pkl\", \"rb\") as file:\n",
    "    lang_to_pages = pickle.load(file)\n"
   ]
  },
  {
   "cell_type": "markdown",
   "id": "bed71172",
   "metadata": {},
   "source": [
    "### Чистка текстов"
   ]
  },
  {
   "cell_type": "code",
   "execution_count": 126,
   "id": "9b0187f3",
   "metadata": {},
   "outputs": [],
   "source": [
    "import re\n",
    "\n",
    "\n",
    "\n",
    "class NormRule:\n",
    "    def __init__(self, from_:str, to_:str) -> None:\n",
    "        self.from_ = from_\n",
    "        self.to_ = to_\n",
    "\n",
    "    def apply_rule(self, text:str) -> str:\n",
    "        return text.replace(self.from_, self.to_)\n",
    "\n",
    "\n",
    "class RegNormRule(NormRule):\n",
    "\n",
    "    def apply_rule(self, text: str) -> str:\n",
    "        return re.sub(self.from_, self.to_, text)\n",
    "\n",
    "\n",
    "\n",
    "class Normalizer:\n",
    "\n",
    "    rules = (\n",
    "        NormRule(\"==\", \"\"),\n",
    "        RegNormRule(r\"\\s+\", \" \"),\n",
    "        RegNormRule(\"・+\", \" \"),\n",
    "    )\n",
    "\n",
    "\n",
    "    @classmethod\n",
    "    def normalize(cls, text:str) -> str:\n",
    "        for rule in cls.rules:\n",
    "            text = rule.apply_rule(text)\n",
    "        return text\n"
   ]
  },
  {
   "cell_type": "code",
   "execution_count": 127,
   "id": "8b3fdd8a",
   "metadata": {},
   "outputs": [],
   "source": [
    "for lang in lang_to_pages:\n",
    "    lang_to_title = lang_to_pages[lang]\n",
    "    for title in lang_to_title:\n",
    "        lang_to_title[title] = Normalizer.normalize(lang_to_title[title])"
   ]
  },
  {
   "cell_type": "code",
   "execution_count": 128,
   "id": "7c072ee4",
   "metadata": {},
   "outputs": [
    {
     "name": "stderr",
     "output_type": "stream",
     "text": [
      "[nltk_data] Downloading package punkt_tab to\n",
      "[nltk_data]     /home/smertlove/nltk_data...\n",
      "[nltk_data]   Package punkt_tab is already up-to-date!\n"
     ]
    },
    {
     "data": {
      "text/plain": [
       "True"
      ]
     },
     "execution_count": 128,
     "metadata": {},
     "output_type": "execute_result"
    }
   ],
   "source": [
    "import nltk\n",
    "from nltk import sent_tokenize\n",
    "nltk.download('punkt_tab')\n"
   ]
  },
  {
   "cell_type": "code",
   "execution_count": 129,
   "id": "abee0fd6",
   "metadata": {},
   "outputs": [],
   "source": [
    "from random import choice"
   ]
  },
  {
   "cell_type": "code",
   "execution_count": 131,
   "id": "c234c28a",
   "metadata": {},
   "outputs": [
    {
     "name": "stdout",
     "output_type": "stream",
     "text": [
      "'邵 疇（しょう ちゅう、235年 - 274年）は、中国三国時代の呉の政治家 武将。字は温伯。揚州会稽郡の人。 生涯 邵疇は会稽太守郭誕の功曹をつとめていた。 鳳凰3年（274年）、会稽郡にて、孫晧は既に亡くなっており、章安侯孫奮が天子になるであろうという妖言が流行った。臨海太守奚熙は郭誕に書簡を送り、国政を非難した。郭誕は、奚熙の国政を非難する書簡のことは上言したが、妖言については上言しなかったということで逮捕されると、気が動転して自らの無実を明らかにできなかった。邵疇は郭誕に謁見していった。「ただいますべては私の責任ということにいたしますので、太守さまにはご心配ご無用です。」邵疇はすぐさま役人のもとに出頭すると、妖言について上言しなかったのは自分の処置によるものであり、太守の罪ではないと、すすんで陳述した。役人は邵疇のいうところを上聞したが、孫晧の怒りは全く衰えなかった。邵疇は、このままでは郭誕も死を免れぬであろうことを慮り、自殺をしてみずからの罪を証らかにしようとし、死に臨み、次のような言葉を残した。「私は辺鄙後に成長し、政治教化の道には通じておりませんでしたが、由緒ある家柄だということで、本郡の役所に身を置くこととなり、同輩たちをとびこえて、役所の中でも高い地位をえたのでございます。ただ盛んなるご教化を宣揚するのに力を添えることも、人々の幸福な生活を計ってやることもできぬままでありました。ただいま妖言が横行して、国家を傷つけ綱紀を乱しておりますが、私は、人々ががやがやとしゃべり立てる言葉は、もともと事実ではないのだから、たとえ家ごとに語られ人ごとに詠われたとしても、心配する必要もないのだと考えました。天下と申しますものはいわば貴重な宝器でありますのに、身分のない者どもがそれについて勝手な取りざたをいたしたのであります。その内容の下劣さを疾んで、それがお耳に達するのは堪えられず、汚いものに蓋をして、それを書きとめることもせず、騒がしさもやがては沈静化し、自然に終息するであろうのを待とうと考えた次第でございます。私は愚かな心をもって一途に、つねづねこの旨を強く主張いたしてまいりました。それゆえ郭誕も、その考えるところをまげて、だまって私の意見に従われたのでございました。このたびの過ちは、実は私に出たことでございます。ここに謹んで、死罪も覚悟のうえで、ご関係の役人さまに対し私の罪を認めた次第でございます。天子さまにはご聖観を垂れられ、事態をお見通しいただきますように。」役人が邵疇の死体を検分してこの文書を発見し、孫晧に報告した。その結果、郭誕は死刑をまぬがれて、建安に送られ、船を作る労役に従うこととなった。邵疇は、死んだとき、年は40歳であったという。孫晧は、邵疇の節義を嘉して、郡と県との役所に詔を下して、邵疇の姿を廟堂に画かせたという。 参考文献 陳寿、裴松之注『正史 三国志』、井波律子 今鷹真 小南一郎 訳 解説（ちくま学芸文庫全8巻、1992 - 93年）、※呉書は6 7 8巻、小南一郎訳。 脚注 '\n"
     ]
    },
    {
     "ename": "LookupError",
     "evalue": "\n**********************************************************************\n  Resource \u001b[93mpunkt_tab\u001b[0m not found.\n  Please use the NLTK Downloader to obtain the resource:\n\n  \u001b[31m>>> import nltk\n  >>> nltk.download('punkt_tab')\n  \u001b[0m\n  For more information see: https://www.nltk.org/data.html\n\n  Attempted to load \u001b[93mtokenizers/punkt_tab/japanese/\u001b[0m\n\n  Searched in:\n    - '/home/smertlove/nltk_data'\n    - '/home/smertlove/sandbox/hse/nlp_hw/venv/nltk_data'\n    - '/home/smertlove/sandbox/hse/nlp_hw/venv/share/nltk_data'\n    - '/home/smertlove/sandbox/hse/nlp_hw/venv/lib/nltk_data'\n    - '/usr/share/nltk_data'\n    - '/usr/local/share/nltk_data'\n    - '/usr/lib/nltk_data'\n    - '/usr/local/lib/nltk_data'\n**********************************************************************\n",
     "output_type": "error",
     "traceback": [
      "\u001b[0;31m---------------------------------------------------------------------------\u001b[0m",
      "\u001b[0;31mLookupError\u001b[0m                               Traceback (most recent call last)",
      "Cell \u001b[0;32mIn[131], line 5\u001b[0m\n\u001b[1;32m      2\u001b[0m txt \u001b[38;5;241m=\u001b[39m lang_to_pages[\u001b[38;5;124m\"\u001b[39m\u001b[38;5;124mja\u001b[39m\u001b[38;5;124m\"\u001b[39m][key] \u001b[38;5;66;03m#  ko hi lv\u001b[39;00m\n\u001b[1;32m      4\u001b[0m \u001b[38;5;28mprint\u001b[39m(\u001b[38;5;28mrepr\u001b[39m(txt))\n\u001b[0;32m----> 5\u001b[0m \u001b[38;5;28mprint\u001b[39m(\u001b[38;5;28mlen\u001b[39m(\u001b[43msent_tokenize\u001b[49m\u001b[43m(\u001b[49m\u001b[43mtxt\u001b[49m\u001b[43m,\u001b[49m\u001b[43m \u001b[49m\u001b[38;5;124;43m\"\u001b[39;49m\u001b[38;5;124;43mjapanese\u001b[39;49m\u001b[38;5;124;43m\"\u001b[39;49m\u001b[43m)\u001b[49m))\n",
      "File \u001b[0;32m~/sandbox/hse/nlp_hw/venv/lib/python3.10/site-packages/nltk/tokenize/__init__.py:119\u001b[0m, in \u001b[0;36msent_tokenize\u001b[0;34m(text, language)\u001b[0m\n\u001b[1;32m    109\u001b[0m \u001b[38;5;28;01mdef\u001b[39;00m \u001b[38;5;21msent_tokenize\u001b[39m(text, language\u001b[38;5;241m=\u001b[39m\u001b[38;5;124m\"\u001b[39m\u001b[38;5;124menglish\u001b[39m\u001b[38;5;124m\"\u001b[39m):\n\u001b[1;32m    110\u001b[0m \u001b[38;5;250m    \u001b[39m\u001b[38;5;124;03m\"\"\"\u001b[39;00m\n\u001b[1;32m    111\u001b[0m \u001b[38;5;124;03m    Return a sentence-tokenized copy of *text*,\u001b[39;00m\n\u001b[1;32m    112\u001b[0m \u001b[38;5;124;03m    using NLTK's recommended sentence tokenizer\u001b[39;00m\n\u001b[0;32m   (...)\u001b[0m\n\u001b[1;32m    117\u001b[0m \u001b[38;5;124;03m    :param language: the model name in the Punkt corpus\u001b[39;00m\n\u001b[1;32m    118\u001b[0m \u001b[38;5;124;03m    \"\"\"\u001b[39;00m\n\u001b[0;32m--> 119\u001b[0m     tokenizer \u001b[38;5;241m=\u001b[39m \u001b[43m_get_punkt_tokenizer\u001b[49m\u001b[43m(\u001b[49m\u001b[43mlanguage\u001b[49m\u001b[43m)\u001b[49m\n\u001b[1;32m    120\u001b[0m     \u001b[38;5;28;01mreturn\u001b[39;00m tokenizer\u001b[38;5;241m.\u001b[39mtokenize(text)\n",
      "File \u001b[0;32m~/sandbox/hse/nlp_hw/venv/lib/python3.10/site-packages/nltk/tokenize/__init__.py:105\u001b[0m, in \u001b[0;36m_get_punkt_tokenizer\u001b[0;34m(language)\u001b[0m\n\u001b[1;32m     96\u001b[0m \u001b[38;5;129m@functools\u001b[39m\u001b[38;5;241m.\u001b[39mlru_cache\n\u001b[1;32m     97\u001b[0m \u001b[38;5;28;01mdef\u001b[39;00m \u001b[38;5;21m_get_punkt_tokenizer\u001b[39m(language\u001b[38;5;241m=\u001b[39m\u001b[38;5;124m\"\u001b[39m\u001b[38;5;124menglish\u001b[39m\u001b[38;5;124m\"\u001b[39m):\n\u001b[1;32m     98\u001b[0m \u001b[38;5;250m    \u001b[39m\u001b[38;5;124;03m\"\"\"\u001b[39;00m\n\u001b[1;32m     99\u001b[0m \u001b[38;5;124;03m    A constructor for the PunktTokenizer that utilizes\u001b[39;00m\n\u001b[1;32m    100\u001b[0m \u001b[38;5;124;03m    a lru cache for performance.\u001b[39;00m\n\u001b[0;32m   (...)\u001b[0m\n\u001b[1;32m    103\u001b[0m \u001b[38;5;124;03m    :type language: str\u001b[39;00m\n\u001b[1;32m    104\u001b[0m \u001b[38;5;124;03m    \"\"\"\u001b[39;00m\n\u001b[0;32m--> 105\u001b[0m     \u001b[38;5;28;01mreturn\u001b[39;00m \u001b[43mPunktTokenizer\u001b[49m\u001b[43m(\u001b[49m\u001b[43mlanguage\u001b[49m\u001b[43m)\u001b[49m\n",
      "File \u001b[0;32m~/sandbox/hse/nlp_hw/venv/lib/python3.10/site-packages/nltk/tokenize/punkt.py:1744\u001b[0m, in \u001b[0;36mPunktTokenizer.__init__\u001b[0;34m(self, lang)\u001b[0m\n\u001b[1;32m   1742\u001b[0m \u001b[38;5;28;01mdef\u001b[39;00m \u001b[38;5;21m__init__\u001b[39m(\u001b[38;5;28mself\u001b[39m, lang\u001b[38;5;241m=\u001b[39m\u001b[38;5;124m\"\u001b[39m\u001b[38;5;124menglish\u001b[39m\u001b[38;5;124m\"\u001b[39m):\n\u001b[1;32m   1743\u001b[0m     PunktSentenceTokenizer\u001b[38;5;241m.\u001b[39m\u001b[38;5;21m__init__\u001b[39m(\u001b[38;5;28mself\u001b[39m)\n\u001b[0;32m-> 1744\u001b[0m     \u001b[38;5;28;43mself\u001b[39;49m\u001b[38;5;241;43m.\u001b[39;49m\u001b[43mload_lang\u001b[49m\u001b[43m(\u001b[49m\u001b[43mlang\u001b[49m\u001b[43m)\u001b[49m\n",
      "File \u001b[0;32m~/sandbox/hse/nlp_hw/venv/lib/python3.10/site-packages/nltk/tokenize/punkt.py:1749\u001b[0m, in \u001b[0;36mPunktTokenizer.load_lang\u001b[0;34m(self, lang)\u001b[0m\n\u001b[1;32m   1746\u001b[0m \u001b[38;5;28;01mdef\u001b[39;00m \u001b[38;5;21mload_lang\u001b[39m(\u001b[38;5;28mself\u001b[39m, lang\u001b[38;5;241m=\u001b[39m\u001b[38;5;124m\"\u001b[39m\u001b[38;5;124menglish\u001b[39m\u001b[38;5;124m\"\u001b[39m):\n\u001b[1;32m   1747\u001b[0m     \u001b[38;5;28;01mfrom\u001b[39;00m \u001b[38;5;21;01mnltk\u001b[39;00m\u001b[38;5;21;01m.\u001b[39;00m\u001b[38;5;21;01mdata\u001b[39;00m \u001b[38;5;28;01mimport\u001b[39;00m find\n\u001b[0;32m-> 1749\u001b[0m     lang_dir \u001b[38;5;241m=\u001b[39m \u001b[43mfind\u001b[49m\u001b[43m(\u001b[49m\u001b[38;5;124;43mf\u001b[39;49m\u001b[38;5;124;43m\"\u001b[39;49m\u001b[38;5;124;43mtokenizers/punkt_tab/\u001b[39;49m\u001b[38;5;132;43;01m{\u001b[39;49;00m\u001b[43mlang\u001b[49m\u001b[38;5;132;43;01m}\u001b[39;49;00m\u001b[38;5;124;43m/\u001b[39;49m\u001b[38;5;124;43m\"\u001b[39;49m\u001b[43m)\u001b[49m\n\u001b[1;32m   1750\u001b[0m     \u001b[38;5;28mself\u001b[39m\u001b[38;5;241m.\u001b[39m_params \u001b[38;5;241m=\u001b[39m load_punkt_params(lang_dir)\n\u001b[1;32m   1751\u001b[0m     \u001b[38;5;28mself\u001b[39m\u001b[38;5;241m.\u001b[39m_lang \u001b[38;5;241m=\u001b[39m lang\n",
      "File \u001b[0;32m~/sandbox/hse/nlp_hw/venv/lib/python3.10/site-packages/nltk/data.py:579\u001b[0m, in \u001b[0;36mfind\u001b[0;34m(resource_name, paths)\u001b[0m\n\u001b[1;32m    577\u001b[0m sep \u001b[38;5;241m=\u001b[39m \u001b[38;5;124m\"\u001b[39m\u001b[38;5;124m*\u001b[39m\u001b[38;5;124m\"\u001b[39m \u001b[38;5;241m*\u001b[39m \u001b[38;5;241m70\u001b[39m\n\u001b[1;32m    578\u001b[0m resource_not_found \u001b[38;5;241m=\u001b[39m \u001b[38;5;124mf\u001b[39m\u001b[38;5;124m\"\u001b[39m\u001b[38;5;130;01m\\n\u001b[39;00m\u001b[38;5;132;01m{\u001b[39;00msep\u001b[38;5;132;01m}\u001b[39;00m\u001b[38;5;130;01m\\n\u001b[39;00m\u001b[38;5;132;01m{\u001b[39;00mmsg\u001b[38;5;132;01m}\u001b[39;00m\u001b[38;5;130;01m\\n\u001b[39;00m\u001b[38;5;132;01m{\u001b[39;00msep\u001b[38;5;132;01m}\u001b[39;00m\u001b[38;5;130;01m\\n\u001b[39;00m\u001b[38;5;124m\"\u001b[39m\n\u001b[0;32m--> 579\u001b[0m \u001b[38;5;28;01mraise\u001b[39;00m \u001b[38;5;167;01mLookupError\u001b[39;00m(resource_not_found)\n",
      "\u001b[0;31mLookupError\u001b[0m: \n**********************************************************************\n  Resource \u001b[93mpunkt_tab\u001b[0m not found.\n  Please use the NLTK Downloader to obtain the resource:\n\n  \u001b[31m>>> import nltk\n  >>> nltk.download('punkt_tab')\n  \u001b[0m\n  For more information see: https://www.nltk.org/data.html\n\n  Attempted to load \u001b[93mtokenizers/punkt_tab/japanese/\u001b[0m\n\n  Searched in:\n    - '/home/smertlove/nltk_data'\n    - '/home/smertlove/sandbox/hse/nlp_hw/venv/nltk_data'\n    - '/home/smertlove/sandbox/hse/nlp_hw/venv/share/nltk_data'\n    - '/home/smertlove/sandbox/hse/nlp_hw/venv/lib/nltk_data'\n    - '/usr/share/nltk_data'\n    - '/usr/local/share/nltk_data'\n    - '/usr/lib/nltk_data'\n    - '/usr/local/lib/nltk_data'\n**********************************************************************\n"
     ]
    }
   ],
   "source": [
    "key = choice(list(lang_to_pages[\"ja\"].keys()))\n",
    "txt = lang_to_pages[\"ja\"][key] #  ko hi lv\n",
    "\n",
    "print(repr(txt))\n",
    "print(len(sent_tokenize(txt, \"japanese\")))\n"
   ]
  },
  {
   "cell_type": "markdown",
   "id": "84b93c55",
   "metadata": {},
   "source": [
    "### NLTK не поддерживает такую экзотику, значит будем городить своё."
   ]
  },
  {
   "cell_type": "code",
   "execution_count": 132,
   "id": "df86be6c",
   "metadata": {},
   "outputs": [],
   "source": [
    "class Tokenizer:\n",
    "\n",
    "    delimiter = \".\"\n",
    "\n",
    "    @classmethod\n",
    "    def tokenize(cls, text:str) -> list[str]: \n",
    "        return text.split(cls.delimiter)\n",
    "\n",
    "\n",
    "class HieroglyphicTokenizer(Tokenizer):\n",
    "    delimiter = \"。\"\n",
    "\n",
    "\n",
    "class DevanagariTokenizer(Tokenizer):\n",
    "    delimiter = \"।\"\n",
    "\n",
    "\n",
    "class RegularTokenizer(Tokenizer):\n",
    "\n",
    "    @classmethod\n",
    "    def tokenize(cls, text: str) -> list[str]:\n",
    "        return nltk.sent_tokenize(text)\n",
    "\n",
    "\n",
    "lang_to_tokenizer : dict[str, Tokenizer]= {\n",
    "    \"zh\": HieroglyphicTokenizer,\n",
    "    \"ja\": HieroglyphicTokenizer,\n",
    "    \"ko\": Tokenizer,\n",
    "    \"hi\": DevanagariTokenizer,\n",
    "    \"lv\": RegularTokenizer,\n",
    "}"
   ]
  },
  {
   "cell_type": "code",
   "execution_count": 160,
   "id": "50bc54ef",
   "metadata": {},
   "outputs": [],
   "source": [
    "corpus = []\n",
    "\n",
    "for lang in lang_to_pages:\n",
    "    tokenizer = lang_to_tokenizer[lang]\n",
    "    lang_to_title = lang_to_pages[lang]\n",
    "\n",
    "    for title in lang_to_title:\n",
    "        sents = tokenizer.tokenize(lang_to_title[title])\n",
    "        \n",
    "        for sent in sents:\n",
    "            corpus.append((sent.strip(), lang))\n"
   ]
  },
  {
   "cell_type": "code",
   "execution_count": 170,
   "id": "effe0558",
   "metadata": {},
   "outputs": [],
   "source": [
    "import pandas as pd"
   ]
  },
  {
   "cell_type": "code",
   "execution_count": 171,
   "id": "9a8b8b49",
   "metadata": {},
   "outputs": [],
   "source": [
    "df = pd.DataFrame(corpus, columns=(\"sentence\", \"language\"))\n",
    "grouped_df = df.groupby(\"language\")"
   ]
  },
  {
   "cell_type": "markdown",
   "id": "34436e1d",
   "metadata": {},
   "source": [
    "###  Загружаем модель"
   ]
  },
  {
   "cell_type": "code",
   "execution_count": 153,
   "id": "0393d2e1",
   "metadata": {},
   "outputs": [
    {
     "name": "stderr",
     "output_type": "stream",
     "text": [
      "/home/smertlove/sandbox/hse/nlp_hw/venv/lib/python3.10/site-packages/sentence_transformers/cross_encoder/CrossEncoder.py:13: TqdmWarning: IProgress not found. Please update jupyter and ipywidgets. See https://ipywidgets.readthedocs.io/en/stable/user_install.html\n",
      "  from tqdm.autonotebook import tqdm, trange\n"
     ]
    }
   ],
   "source": [
    "from sentence_transformers import SentenceTransformer"
   ]
  },
  {
   "cell_type": "code",
   "execution_count": 154,
   "id": "e1300c8d",
   "metadata": {},
   "outputs": [
    {
     "name": "stderr",
     "output_type": "stream",
     "text": [
      "/home/smertlove/sandbox/hse/nlp_hw/venv/lib/python3.10/site-packages/transformers/tokenization_utils_base.py:1617: FutureWarning: `clean_up_tokenization_spaces` was not set. It will be set to `True` by default. This behavior will be deprecated in transformers v4.45, and will be then set to `False` by default. For more details check this issue: https://github.com/huggingface/transformers/issues/31884\n",
      "  warnings.warn(\n"
     ]
    }
   ],
   "source": [
    "model = SentenceTransformer('sentence-transformers/all-mpnet-base-v2')"
   ]
  },
  {
   "cell_type": "code",
   "execution_count": 157,
   "id": "6b165c8a",
   "metadata": {},
   "outputs": [],
   "source": [
    "from sklearn.cluster import KMeans\n",
    "from sklearn.metrics import adjusted_rand_score"
   ]
  },
  {
   "cell_type": "code",
   "execution_count": 158,
   "id": "be3e3e53",
   "metadata": {},
   "outputs": [],
   "source": [
    "cluster = KMeans(n_clusters = len(lang_to_pages), max_iter = 500, algorithm = 'elkan')"
   ]
  },
  {
   "cell_type": "code",
   "execution_count": 159,
   "id": "5ae4a24a",
   "metadata": {},
   "outputs": [
    {
     "data": {
      "text/plain": [
       "'布拉迪斯拉發施洛雲體育會（斯洛伐克語：ŠK Slovan Bratislava），簡稱施洛雲，是斯洛伐克的一家足球俱樂部，主場設在首都布拉迪斯拉發'"
      ]
     },
     "execution_count": 159,
     "metadata": {},
     "output_type": "execute_result"
    }
   ],
   "source": [
    "sents = [elem[0] for elem in corpus]\n",
    "\n",
    "X = np.zeros((len(sents), 768))\n",
    "for i, sent in enumerate(sents):\n",
    "    X[i] = model.encode(sent)\n",
    "\n",
    "cluster.fit(X)\n",
    "labels = np.array(cluster.labels_)+1"
   ]
  },
  {
   "cell_type": "markdown",
   "id": "3cd75839",
   "metadata": {},
   "source": [
    "# Задание 2\n",
    "\n",
    "Загрузите корпус `annot.opcorpora.no_ambig_strict.xml.bz2` с OpenCorpora. Найдите в корпусе самые частотные морфологически омонимичные словоформы (те, которым соответствует разный грамматический разбор в разных предложениях). Также найдите словоформы с самых большим количеством вариантов грамматических разборов."
   ]
  },
  {
   "cell_type": "code",
   "execution_count": null,
   "id": "5ed11ce0",
   "metadata": {},
   "outputs": [],
   "source": []
  },
  {
   "cell_type": "code",
   "execution_count": null,
   "id": "be265156",
   "metadata": {},
   "outputs": [],
   "source": []
  },
  {
   "cell_type": "markdown",
   "id": "57b29c9c",
   "metadata": {},
   "source": [
    "## Задание 3\n",
    "Загрузите один и з файлов корпуса Syntagrus - https://github.com/UniversalDependencies/UD_Russian-SynTagRus/tree/master (можно взять тестовый)\n",
    "\n",
    "Преобразуйте все разборы предложений в графовые структуры через DependencyGraph, выберите 3 любых отношения и для каждого найдите топ-5 самых встречаемых пар слов, связанных этим отношением. \n",
    "\n",
    "Для самой частотной пары слов в каждом из отношений вытащите все подзависимые слова для каждого из них во всех предложениях (используя `flatten(get_subtree(d.nodes, index_of_a_word)` и сортируя результат по порядку слов в предложениях, аналогично тому как я делал с summaries только у вас будет два слова) \n",
    "В итоге у вас должен получится что-то такое:\n",
    "\n",
    "```\n",
    "### отношение\n",
    "relation_name\n",
    "\n",
    "### топ 5 пар слов связанных этим отношением\n",
    "(word1, word2), (word3, word4), (word5, word6), (word7, word8), (word9, word10)\n",
    "\n",
    "### подзависимые для самого частотного\n",
    "(subword word1 subword, word2 subword subword)\n",
    "\n",
    "... (и так три раза)\n",
    "```\n"
   ]
  },
  {
   "cell_type": "code",
   "execution_count": null,
   "id": "c148adc5",
   "metadata": {},
   "outputs": [],
   "source": []
  },
  {
   "cell_type": "code",
   "execution_count": null,
   "id": "01b56573",
   "metadata": {},
   "outputs": [],
   "source": []
  }
 ],
 "metadata": {
  "kernelspec": {
   "display_name": "venv",
   "language": "python",
   "name": "python3"
  },
  "language_info": {
   "codemirror_mode": {
    "name": "ipython",
    "version": 3
   },
   "file_extension": ".py",
   "mimetype": "text/x-python",
   "name": "python",
   "nbconvert_exporter": "python",
   "pygments_lexer": "ipython3",
   "version": "3.10.12"
  }
 },
 "nbformat": 4,
 "nbformat_minor": 5
}
