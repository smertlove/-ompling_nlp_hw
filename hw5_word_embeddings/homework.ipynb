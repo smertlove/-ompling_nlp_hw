{
 "cells": [
  {
   "cell_type": "markdown",
   "id": "a98604cb",
   "metadata": {},
   "source": [
    "Домашку будет легче делать в колабе (убедитесь, что у вас runtype с gpu)."
   ]
  },
  {
   "cell_type": "markdown",
   "id": "9c422aa0",
   "metadata": {},
   "source": [
    "# Задание 1 (3 балла)"
   ]
  },
  {
   "cell_type": "markdown",
   "id": "e4a72790",
   "metadata": {},
   "source": [
    "Обучите word2vec модели с негативным семплированием (cbow и skip-gram) аналогично тому, как это было сделано в семинаре. Вам нужно изменить следующие пункты: \n",
    "1) добавьте лемматизацию в предобработку (любым способом)  \n",
    "2) измените размер окна в большую или меньшую сторону\n",
    "3) измените размерность итоговых векторов\n",
    "\n",
    "Выберете несколько не похожих по смыслу слов (не таких как в семинаре), и протестируйте полученные эмбединги (найдите ближайшие слова и оцените качество, как в семинаре). \n",
    "Постарайтесь обучать модели как можно дольше и на как можно большем количестве данных. (Но если у вас мало времени или ресурсов, то допустимо взять поменьше данных и поставить меньше эпох)"
   ]
  },
  {
   "cell_type": "markdown",
   "id": "f56d1db5",
   "metadata": {},
   "source": [
    "### Перенос и адаптация кода из лекции"
   ]
  },
  {
   "cell_type": "code",
   "execution_count": 9,
   "id": "805f4992",
   "metadata": {},
   "outputs": [],
   "source": [
    "# import tensorflow as tf\n",
    "import numpy as np\n",
    "import pandas as pd\n",
    "from string import punctuation\n",
    "from sklearn.model_selection import train_test_split\n",
    "from collections import Counter\n",
    "import matplotlib.pyplot as plt\n",
    "from sklearn.decomposition import TruncatedSVD\n",
    "from sklearn.feature_extraction.text import CountVectorizer\n",
    "from sklearn.metrics.pairwise import cosine_distances\n",
    "\n",
    "from IPython.display import Image\n",
    "from IPython.core.display import HTML \n",
    "%matplotlib inline"
   ]
  },
  {
   "cell_type": "code",
   "execution_count": 10,
   "id": "d19d6e37",
   "metadata": {},
   "outputs": [
    {
     "name": "stdout",
     "output_type": "stream",
     "text": [
      "3.8.0\n"
     ]
    }
   ],
   "source": [
    "import os\n",
    "os.environ[\"KERAS_BACKEND\"] = \"torch\"\n",
    "# os.environ[\"PYTORCH_ENABLE_MPS_FALLBACK\"] = \"1\"\n",
    "\n",
    "import torch\n",
    "# torch.set_default_device('cpu')\n",
    "\n",
    "import keras\n",
    "print(keras.__version__)"
   ]
  },
  {
   "cell_type": "code",
   "execution_count": 11,
   "id": "486fcc02",
   "metadata": {},
   "outputs": [],
   "source": [
    "import re"
   ]
  },
  {
   "cell_type": "code",
   "execution_count": 7,
   "id": "22df3050",
   "metadata": {},
   "outputs": [],
   "source": [
    "class Vocab:\n",
    "\n",
    "    def __init__(self, corpus_path:str):\n",
    "\n",
    "        with open(corpus_path) as file:\n",
    "            texts = file.read().split('\\n')\n",
    "\n",
    "        vocab = Counter()\n",
    "\n",
    "        for text in texts:\n",
    "            vocab.update(self.preprocess(text))\n",
    "\n",
    "        filtered_vocab = set()\n",
    "\n",
    "        for word in vocab:\n",
    "            if vocab[word] > 30:\n",
    "                filtered_vocab.add(word)\n",
    "\n",
    "        self.word2id = {'PAD':0}\n",
    "\n",
    "        for word in filtered_vocab:\n",
    "            self.word2id[word] = len(self.word2id)\n",
    "\n",
    "        self.id2word = {i:word for word, i in self.word2id.items()}\n",
    "\n",
    "        self.train_sentences = []\n",
    "\n",
    "        for text in texts:\n",
    "            tokens = self.preprocess(text)\n",
    "            if not tokens:\n",
    "                continue\n",
    "            ids = [self.word2id[token] for token in tokens if token in self.word2id]\n",
    "            self.train_sentences.append(ids)\n",
    "\n",
    "    def preprocess(self, text:str) -> list[str]:\n",
    "        tokens = re.sub('#+', ' ', text.lower()).split()\n",
    "        tokens = [token.strip(punctuation) for token in tokens]\n",
    "        tokens = [token for token in tokens if token]\n",
    "        return tokens"
   ]
  },
  {
   "cell_type": "code",
   "execution_count": 50,
   "id": "62a7d55a",
   "metadata": {},
   "outputs": [],
   "source": [
    "wiki = Vocab(r\"./data/wiki_data.txt\")"
   ]
  },
  {
   "cell_type": "code",
   "execution_count": 51,
   "id": "f5ae63b4",
   "metadata": {},
   "outputs": [],
   "source": [
    "def most_similar(word, vocab:Vocab, embeddings):\n",
    "    similar = [vocab.id2word[i] for i in \n",
    "               cosine_distances(embeddings[vocab.word2id[word]].reshape(1, -1), embeddings).argsort()[0][:10]]\n",
    "    return similar"
   ]
  },
  {
   "cell_type": "code",
   "execution_count": 52,
   "id": "5a0a9247",
   "metadata": {},
   "outputs": [],
   "source": [
    "# skip gram\n",
    "def gen_batches_sg(vocab:Vocab, window = 5, batch_size=1000):\n",
    "    \n",
    "    # параметр window задает его целиком\n",
    "    # нам нужно поделить его пополам на левую и правую часть\n",
    "    # когда делится неровно, то левая часть больше на 1\n",
    "    left_context_length = (window/2).__ceil__() # округлить в большую сторону\n",
    "    right_context_length = window // 2 # округлить в меньшую сторону\n",
    "\n",
    "    vocab_size = len(vocab.id2word)\n",
    "    \n",
    "    while True:\n",
    "        X_target = []\n",
    "        X_context = []\n",
    "        y = []\n",
    "\n",
    "        for sent in vocab.train_sentences:\n",
    "            for i in range(len(sent)-1):\n",
    "                word = sent[i]\n",
    "                context = sent[max(0, i-left_context_length):i] + sent[i+1:i+right_context_length]\n",
    "                for context_word in context:\n",
    "                    X_target.append(word)\n",
    "                    X_context.append(context_word)\n",
    "                    y.append(1)\n",
    "                    \n",
    "                    X_target.append(word)\n",
    "                    X_context.append(np.random.randint(vocab_size))\n",
    "                    y.append(0)\n",
    "                    \n",
    "                    if len(X_target) >= batch_size:\n",
    "                        X_target = np.array(X_target)\n",
    "                        X_context = np.array(X_context)\n",
    "                        y = np.array(y)\n",
    "                        yield ((X_target, X_context), y)\n",
    "                        X_target = []\n",
    "                        X_context = []\n",
    "                        y = []"
   ]
  },
  {
   "cell_type": "code",
   "execution_count": 53,
   "id": "3dff02bf",
   "metadata": {},
   "outputs": [],
   "source": [
    "\n",
    "def gen_batches_cbow(vocab:Vocab, window = 5, batch_size=1000):\n",
    "    \n",
    "    # параметр window задает его целиком\n",
    "    # нам нужно поделить его пополам на левую и правую часть\n",
    "    # когда делится неровно, то левая часть больше на 1\n",
    "    left_context_length = (window/2).__ceil__() # округлить в большую сторону\n",
    "    right_context_length = window // 2 # округлить в меньшую сторону\n",
    "\n",
    "    vocab_size = len(vocab.id2word)\n",
    "    \n",
    "    while True:\n",
    "        X_target = []\n",
    "        X_context = []\n",
    "        y = []\n",
    "\n",
    "        for sent in vocab.train_sentences:\n",
    "            for i in range(len(sent)-1):\n",
    "                word = sent[i]\n",
    "                context = sent[max(0, i-left_context_length):i] + sent[i+1:i+right_context_length]\n",
    "\n",
    "                X_target.append(word)\n",
    "                X_context.append(context)\n",
    "                y.append(1)\n",
    "                \n",
    "                X_target.append(np.random.randint(vocab_size))\n",
    "                X_context.append(context)\n",
    "                y.append(0)\n",
    "\n",
    "                if len(X_target) == batch_size:\n",
    "                    X_target = np.array(X_target)\n",
    "                    X_context = keras.preprocessing.sequence.pad_sequences(X_context, maxlen=window)\n",
    "                    y = np.array(y)\n",
    "                    yield ((X_target, X_context), y)\n",
    "                    X_target = []\n",
    "                    X_context = []\n",
    "                    y = []"
   ]
  },
  {
   "cell_type": "markdown",
   "id": "af806145",
   "metadata": {},
   "source": [
    "### А дальше будет \"эталонное\" использование классов как неймспейсов\n",
    "\n",
    "А я сначала пытался сделать нормально, с наследованием и красиво, но постоянно получал на буквально том же коде, что и в лекции, такую ошибку:\n",
    "\n",
    "  <img\n",
    "    src=\"./data/cuda.png\"\n",
    "    alt=\"Посетить сайт MDN\"\n",
    "    sizes=\"(max-width: 600px) 200px, 50vw\"\n",
    " />"
   ]
  },
  {
   "cell_type": "markdown",
   "id": "836e76de",
   "metadata": {},
   "source": [
    "#### Вариант 1: Skipgram dim 200; window 3; 2000 steps"
   ]
  },
  {
   "cell_type": "code",
   "execution_count": 54,
   "id": "1a78d958",
   "metadata": {},
   "outputs": [],
   "source": [
    "class StockSkipgramW2VwNS:\n",
    "    inputs_target = keras.layers.Input(shape=(1,))\n",
    "    inputs_context = keras.layers.Input(shape=(1,))\n",
    "\n",
    "    \n",
    "    embeddings_target = keras.layers.Embedding(input_dim=len(wiki.word2id), output_dim=200)(inputs_target, )\n",
    "    embeddings_context = keras.layers.Embedding(input_dim=len(wiki.word2id), output_dim=200)(inputs_context, )\n",
    "\n",
    "    target = keras.layers.Flatten()(embeddings_target)\n",
    "    context = keras.layers.Flatten()(embeddings_context)\n",
    "\n",
    "    dot = keras.layers.Dot(1)([target, context])\n",
    "    outputs = keras.layers.Activation(activation='sigmoid')(dot)\n",
    "\n",
    "    model = keras.Model(inputs=[inputs_target, inputs_context], \n",
    "                        outputs=outputs)\n",
    "    optimizer = keras.optimizers.Adam(learning_rate=0.001)\n",
    "    model.compile(optimizer=optimizer,\n",
    "                loss='binary_crossentropy',\n",
    "                metrics=['accuracy'])\n",
    "    \n",
    "    model.build((None, 10))"
   ]
  },
  {
   "cell_type": "code",
   "execution_count": 55,
   "id": "30bc1c63",
   "metadata": {},
   "outputs": [
    {
     "name": "stdout",
     "output_type": "stream",
     "text": [
      "Epoch 1/20\n",
      "\u001b[1m2000/2000\u001b[0m \u001b[32m━━━━━━━━━━━━━━━━━━━━\u001b[0m\u001b[37m\u001b[0m \u001b[1m23s\u001b[0m 11ms/step - accuracy: 0.6974 - loss: 0.5803 - val_accuracy: 0.7812 - val_loss: 0.4671\n",
      "Epoch 2/20\n",
      "\u001b[1m2000/2000\u001b[0m \u001b[32m━━━━━━━━━━━━━━━━━━━━\u001b[0m\u001b[37m\u001b[0m \u001b[1m18s\u001b[0m 9ms/step - accuracy: 0.7911 - loss: 0.4528 - val_accuracy: 0.8071 - val_loss: 0.4278\n",
      "Epoch 3/20\n",
      "\u001b[1m2000/2000\u001b[0m \u001b[32m━━━━━━━━━━━━━━━━━━━━\u001b[0m\u001b[37m\u001b[0m \u001b[1m17s\u001b[0m 8ms/step - accuracy: 0.8015 - loss: 0.4338 - val_accuracy: 0.8164 - val_loss: 0.4059\n",
      "Epoch 4/20\n",
      "\u001b[1m2000/2000\u001b[0m \u001b[32m━━━━━━━━━━━━━━━━━━━━\u001b[0m\u001b[37m\u001b[0m \u001b[1m16s\u001b[0m 8ms/step - accuracy: 0.8100 - loss: 0.4216 - val_accuracy: 0.8196 - val_loss: 0.4034\n",
      "Epoch 5/20\n",
      "\u001b[1m2000/2000\u001b[0m \u001b[32m━━━━━━━━━━━━━━━━━━━━\u001b[0m\u001b[37m\u001b[0m \u001b[1m15s\u001b[0m 7ms/step - accuracy: 0.8139 - loss: 0.4137 - val_accuracy: 0.8411 - val_loss: 0.3625\n",
      "Epoch 6/20\n",
      "\u001b[1m2000/2000\u001b[0m \u001b[32m━━━━━━━━━━━━━━━━━━━━\u001b[0m\u001b[37m\u001b[0m \u001b[1m15s\u001b[0m 8ms/step - accuracy: 0.8221 - loss: 0.3985 - val_accuracy: 0.8201 - val_loss: 0.3980\n",
      "Epoch 7/20\n",
      "\u001b[1m2000/2000\u001b[0m \u001b[32m━━━━━━━━━━━━━━━━━━━━\u001b[0m\u001b[37m\u001b[0m \u001b[1m16s\u001b[0m 8ms/step - accuracy: 0.8269 - loss: 0.3900 - val_accuracy: 0.8235 - val_loss: 0.3917\n",
      "Epoch 8/20\n",
      "\u001b[1m2000/2000\u001b[0m \u001b[32m━━━━━━━━━━━━━━━━━━━━\u001b[0m\u001b[37m\u001b[0m \u001b[1m16s\u001b[0m 8ms/step - accuracy: 0.8283 - loss: 0.3860 - val_accuracy: 0.8512 - val_loss: 0.3386\n",
      "Epoch 9/20\n",
      "\u001b[1m2000/2000\u001b[0m \u001b[32m━━━━━━━━━━━━━━━━━━━━\u001b[0m\u001b[37m\u001b[0m \u001b[1m16s\u001b[0m 8ms/step - accuracy: 0.8355 - loss: 0.3709 - val_accuracy: 0.8276 - val_loss: 0.3749\n",
      "Epoch 10/20\n",
      "\u001b[1m2000/2000\u001b[0m \u001b[32m━━━━━━━━━━━━━━━━━━━━\u001b[0m\u001b[37m\u001b[0m \u001b[1m17s\u001b[0m 8ms/step - accuracy: 0.8375 - loss: 0.3663 - val_accuracy: 0.8682 - val_loss: 0.3067\n",
      "Epoch 11/20\n",
      "\u001b[1m2000/2000\u001b[0m \u001b[32m━━━━━━━━━━━━━━━━━━━━\u001b[0m\u001b[37m\u001b[0m \u001b[1m18s\u001b[0m 9ms/step - accuracy: 0.8436 - loss: 0.3510 - val_accuracy: 0.8560 - val_loss: 0.3290\n",
      "Epoch 12/20\n",
      "\u001b[1m2000/2000\u001b[0m \u001b[32m━━━━━━━━━━━━━━━━━━━━\u001b[0m\u001b[37m\u001b[0m \u001b[1m19s\u001b[0m 9ms/step - accuracy: 0.8381 - loss: 0.3634 - val_accuracy: 0.8523 - val_loss: 0.3329\n",
      "Epoch 13/20\n",
      "\u001b[1m2000/2000\u001b[0m \u001b[32m━━━━━━━━━━━━━━━━━━━━\u001b[0m\u001b[37m\u001b[0m \u001b[1m15s\u001b[0m 8ms/step - accuracy: 0.8436 - loss: 0.3529 - val_accuracy: 0.8603 - val_loss: 0.3224\n",
      "Epoch 14/20\n",
      "\u001b[1m2000/2000\u001b[0m \u001b[32m━━━━━━━━━━━━━━━━━━━━\u001b[0m\u001b[37m\u001b[0m \u001b[1m15s\u001b[0m 8ms/step - accuracy: 0.8438 - loss: 0.3506 - val_accuracy: 0.8572 - val_loss: 0.3236\n",
      "Epoch 15/20\n",
      "\u001b[1m2000/2000\u001b[0m \u001b[32m━━━━━━━━━━━━━━━━━━━━\u001b[0m\u001b[37m\u001b[0m \u001b[1m16s\u001b[0m 8ms/step - accuracy: 0.8503 - loss: 0.3369 - val_accuracy: 0.8524 - val_loss: 0.3341\n",
      "Epoch 16/20\n",
      "\u001b[1m2000/2000\u001b[0m \u001b[32m━━━━━━━━━━━━━━━━━━━━\u001b[0m\u001b[37m\u001b[0m \u001b[1m18s\u001b[0m 9ms/step - accuracy: 0.8491 - loss: 0.3390 - val_accuracy: 0.8600 - val_loss: 0.3155\n",
      "Epoch 17/20\n",
      "\u001b[1m2000/2000\u001b[0m \u001b[32m━━━━━━━━━━━━━━━━━━━━\u001b[0m\u001b[37m\u001b[0m \u001b[1m18s\u001b[0m 9ms/step - accuracy: 0.8485 - loss: 0.3399 - val_accuracy: 0.8641 - val_loss: 0.3094\n",
      "Epoch 18/20\n",
      "\u001b[1m2000/2000\u001b[0m \u001b[32m━━━━━━━━━━━━━━━━━━━━\u001b[0m\u001b[37m\u001b[0m \u001b[1m17s\u001b[0m 9ms/step - accuracy: 0.8532 - loss: 0.3297 - val_accuracy: 0.8594 - val_loss: 0.3127\n",
      "Epoch 19/20\n",
      "\u001b[1m2000/2000\u001b[0m \u001b[32m━━━━━━━━━━━━━━━━━━━━\u001b[0m\u001b[37m\u001b[0m \u001b[1m18s\u001b[0m 9ms/step - accuracy: 0.8531 - loss: 0.3303 - val_accuracy: 0.8581 - val_loss: 0.3168\n",
      "Epoch 20/20\n",
      "\u001b[1m2000/2000\u001b[0m \u001b[32m━━━━━━━━━━━━━━━━━━━━\u001b[0m\u001b[37m\u001b[0m \u001b[1m19s\u001b[0m 9ms/step - accuracy: 0.8517 - loss: 0.3306 - val_accuracy: 0.8444 - val_loss: 0.3441\n"
     ]
    },
    {
     "data": {
      "text/plain": [
       "<keras.src.callbacks.history.History at 0x7f9654f6e0e0>"
      ]
     },
     "execution_count": 55,
     "metadata": {},
     "output_type": "execute_result"
    }
   ],
   "source": [
    "StockSkipgramW2VwNS.model.fit(gen_batches_sg(wiki, window=3),\n",
    "          validation_data=gen_batches_sg(wiki,  window=3),\n",
    "          batch_size=1000,\n",
    "          steps_per_epoch=2000,\n",
    "          validation_steps=30,\n",
    "          epochs=20)"
   ]
  },
  {
   "cell_type": "code",
   "execution_count": 57,
   "id": "45d29511",
   "metadata": {},
   "outputs": [
    {
     "name": "stdout",
     "output_type": "stream",
     "text": [
      "dict_keys(['accuracy', 'loss', 'val_accuracy', 'val_loss'])\n"
     ]
    },
    {
     "data": {
      "image/png": "[encoded data removed]",
      "text/plain": [
       "<Figure size 640x480 with 1 Axes>"
      ]
     },
     "metadata": {},
     "output_type": "display_data"
    }
   ],
   "source": [
    "print(StockSkipgramW2VwNS.model.history.history.keys())\n",
    "# summarize history for accuracy\n",
    "plt.plot(StockSkipgramW2VwNS.model.history.history['loss'])\n",
    "plt.plot(StockSkipgramW2VwNS.model.history.history['val_loss'])\n",
    "plt.title('model loss')\n",
    "plt.ylabel('loss')\n",
    "plt.xlabel('epoch')\n",
    "plt.legend(['train', 'val'], loc='upper left')\n",
    "plt.show()"
   ]
  },
  {
   "cell_type": "code",
   "execution_count": 58,
   "id": "99eb06ec",
   "metadata": {},
   "outputs": [],
   "source": [
    "embeddings = StockSkipgramW2VwNS.model.layers[2].get_weights()[0]"
   ]
  },
  {
   "cell_type": "code",
   "execution_count": 59,
   "id": "394d2539",
   "metadata": {},
   "outputs": [
    {
     "data": {
      "text/plain": [
       "['любовь',\n",
       " 'знаю',\n",
       " 'благодарность',\n",
       " 'узнает',\n",
       " 'картину',\n",
       " 'славу',\n",
       " 'невесты',\n",
       " 'салли',\n",
       " 'проявлять',\n",
       " 'моя']"
      ]
     },
     "execution_count": 59,
     "metadata": {},
     "output_type": "execute_result"
    }
   ],
   "source": [
    "most_similar('любовь', wiki, embeddings)"
   ]
  },
  {
   "cell_type": "code",
   "execution_count": 60,
   "id": "2ba416d9",
   "metadata": {},
   "outputs": [
    {
     "data": {
      "text/plain": [
       "['стена',\n",
       " 'каменная',\n",
       " 'печь',\n",
       " 'балка',\n",
       " 'колония',\n",
       " 'гостиница',\n",
       " 'небольшая',\n",
       " 'инфраструктура',\n",
       " 'зелёная',\n",
       " 'горная']"
      ]
     },
     "execution_count": 60,
     "metadata": {},
     "output_type": "execute_result"
    }
   ],
   "source": [
    "most_similar('стена', wiki, embeddings)"
   ]
  },
  {
   "cell_type": "markdown",
   "id": "1d30f578",
   "metadata": {},
   "source": [
    "#### #### Вариант 2: CBOW dim 400; window 6; 2000 steps"
   ]
  },
  {
   "cell_type": "code",
   "execution_count": 61,
   "id": "cc990d2f",
   "metadata": {},
   "outputs": [],
   "source": [
    "class StockCbowW2VwNS:\n",
    "    #cbow negative sampling\n",
    "    inputs_target = keras.layers.Input(shape=(1,))\n",
    "    inputs_context = keras.layers.Input(shape=(6,))\n",
    "\n",
    "\n",
    "    embeddings_target = keras.layers.Embedding(input_dim=len(wiki.word2id), output_dim=300)(inputs_target, )\n",
    "    embeddings_context = keras.layers.Embedding(input_dim=len(wiki.word2id), output_dim=300)(inputs_context, )\n",
    "\n",
    "    target = keras.layers.Flatten()(embeddings_target)\n",
    "    context = keras.layers.Lambda(lambda x: x.sum(axis=1))(embeddings_context)\n",
    "    dot = keras.layers.Dot(1)([target, context])\n",
    "\n",
    "    # полученную близость нужно преобразовать в вероятность\n",
    "    # когда она одна используется не софтмакс и сигмоида\n",
    "    outputs = keras.layers.Activation(activation='sigmoid')(dot)\n",
    "\n",
    "    model = keras.Model(inputs=[inputs_target, inputs_context], \n",
    "                        outputs=outputs)\n",
    "\n",
    "\n",
    "    optimizer = keras.optimizers.Adam(learning_rate=0.001)\n",
    "    model.compile(optimizer=optimizer,\n",
    "                loss='binary_crossentropy',\n",
    "                metrics=['accuracy'])\n",
    "    model.build([(None, 1), (None, 6)])\n"
   ]
  },
  {
   "cell_type": "code",
   "execution_count": 62,
   "id": "befd1563",
   "metadata": {},
   "outputs": [
    {
     "name": "stdout",
     "output_type": "stream",
     "text": [
      "Epoch 1/20\n"
     ]
    },
    {
     "name": "stdout",
     "output_type": "stream",
     "text": [
      "\u001b[1m2000/2000\u001b[0m \u001b[32m━━━━━━━━━━━━━━━━━━━━\u001b[0m\u001b[37m\u001b[0m \u001b[1m27s\u001b[0m 13ms/step - accuracy: 0.7643 - loss: 0.4873 - val_accuracy: 0.8385 - val_loss: 0.3730\n",
      "Epoch 2/20\n",
      "\u001b[1m2000/2000\u001b[0m \u001b[32m━━━━━━━━━━━━━━━━━━━━\u001b[0m\u001b[37m\u001b[0m \u001b[1m28s\u001b[0m 14ms/step - accuracy: 0.8413 - loss: 0.3638 - val_accuracy: 0.8722 - val_loss: 0.3088\n",
      "Epoch 3/20\n",
      "\u001b[1m2000/2000\u001b[0m \u001b[32m━━━━━━━━━━━━━━━━━━━━\u001b[0m\u001b[37m\u001b[0m \u001b[1m27s\u001b[0m 13ms/step - accuracy: 0.8630 - loss: 0.3228 - val_accuracy: 0.8883 - val_loss: 0.2700\n",
      "Epoch 4/20\n",
      "\u001b[1m2000/2000\u001b[0m \u001b[32m━━━━━━━━━━━━━━━━━━━━\u001b[0m\u001b[37m\u001b[0m \u001b[1m32s\u001b[0m 16ms/step - accuracy: 0.8804 - loss: 0.2866 - val_accuracy: 0.9327 - val_loss: 0.1963\n",
      "Epoch 5/20\n",
      "\u001b[1m2000/2000\u001b[0m \u001b[32m━━━━━━━━━━━━━━━━━━━━\u001b[0m\u001b[37m\u001b[0m \u001b[1m28s\u001b[0m 14ms/step - accuracy: 0.8977 - loss: 0.2478 - val_accuracy: 0.9203 - val_loss: 0.2050\n",
      "Epoch 6/20\n",
      "\u001b[1m2000/2000\u001b[0m \u001b[32m━━━━━━━━━━━━━━━━━━━━\u001b[0m\u001b[37m\u001b[0m \u001b[1m29s\u001b[0m 14ms/step - accuracy: 0.9073 - loss: 0.2256 - val_accuracy: 0.9241 - val_loss: 0.1927\n",
      "Epoch 7/20\n",
      "\u001b[1m2000/2000\u001b[0m \u001b[32m━━━━━━━━━━━━━━━━━━━━\u001b[0m\u001b[37m\u001b[0m \u001b[1m26s\u001b[0m 13ms/step - accuracy: 0.9114 - loss: 0.2179 - val_accuracy: 0.9264 - val_loss: 0.1906\n",
      "Epoch 8/20\n",
      "\u001b[1m2000/2000\u001b[0m \u001b[32m━━━━━━━━━━━━━━━━━━━━\u001b[0m\u001b[37m\u001b[0m \u001b[1m25s\u001b[0m 12ms/step - accuracy: 0.9179 - loss: 0.2030 - val_accuracy: 0.9492 - val_loss: 0.1535\n",
      "Epoch 9/20\n",
      "\u001b[1m2000/2000\u001b[0m \u001b[32m━━━━━━━━━━━━━━━━━━━━\u001b[0m\u001b[37m\u001b[0m \u001b[1m24s\u001b[0m 12ms/step - accuracy: 0.9267 - loss: 0.1845 - val_accuracy: 0.9501 - val_loss: 0.1450\n",
      "Epoch 10/20\n",
      "\u001b[1m2000/2000\u001b[0m \u001b[32m━━━━━━━━━━━━━━━━━━━━\u001b[0m\u001b[37m\u001b[0m \u001b[1m26s\u001b[0m 13ms/step - accuracy: 0.9410 - loss: 0.1512 - val_accuracy: 0.9373 - val_loss: 0.1651\n",
      "Epoch 11/20\n",
      "\u001b[1m2000/2000\u001b[0m \u001b[32m━━━━━━━━━━━━━━━━━━━━\u001b[0m\u001b[37m\u001b[0m \u001b[1m26s\u001b[0m 13ms/step - accuracy: 0.9367 - loss: 0.1627 - val_accuracy: 0.9350 - val_loss: 0.1658\n",
      "Epoch 12/20\n",
      "\u001b[1m2000/2000\u001b[0m \u001b[32m━━━━━━━━━━━━━━━━━━━━\u001b[0m\u001b[37m\u001b[0m \u001b[1m24s\u001b[0m 12ms/step - accuracy: 0.9377 - loss: 0.1607 - val_accuracy: 0.9659 - val_loss: 0.1184\n",
      "Epoch 13/20\n",
      "\u001b[1m2000/2000\u001b[0m \u001b[32m━━━━━━━━━━━━━━━━━━━━\u001b[0m\u001b[37m\u001b[0m \u001b[1m25s\u001b[0m 12ms/step - accuracy: 0.9476 - loss: 0.1409 - val_accuracy: 0.9608 - val_loss: 0.1184\n",
      "Epoch 14/20\n",
      "\u001b[1m2000/2000\u001b[0m \u001b[32m━━━━━━━━━━━━━━━━━━━━\u001b[0m\u001b[37m\u001b[0m \u001b[1m25s\u001b[0m 12ms/step - accuracy: 0.9494 - loss: 0.1376 - val_accuracy: 0.9540 - val_loss: 0.1321\n",
      "Epoch 15/20\n",
      "\u001b[1m2000/2000\u001b[0m \u001b[32m━━━━━━━━━━━━━━━━━━━━\u001b[0m\u001b[37m\u001b[0m \u001b[1m24s\u001b[0m 12ms/step - accuracy: 0.9529 - loss: 0.1301 - val_accuracy: 0.9590 - val_loss: 0.1173\n",
      "Epoch 16/20\n",
      "\u001b[1m2000/2000\u001b[0m \u001b[32m━━━━━━━━━━━━━━━━━━━━\u001b[0m\u001b[37m\u001b[0m \u001b[1m24s\u001b[0m 12ms/step - accuracy: 0.9552 - loss: 0.1257 - val_accuracy: 0.9706 - val_loss: 0.0985\n",
      "Epoch 17/20\n",
      "\u001b[1m2000/2000\u001b[0m \u001b[32m━━━━━━━━━━━━━━━━━━━━\u001b[0m\u001b[37m\u001b[0m \u001b[1m25s\u001b[0m 12ms/step - accuracy: 0.9627 - loss: 0.1097 - val_accuracy: 0.9723 - val_loss: 0.0939\n",
      "Epoch 18/20\n",
      "\u001b[1m2000/2000\u001b[0m \u001b[32m━━━━━━━━━━━━━━━━━━━━\u001b[0m\u001b[37m\u001b[0m \u001b[1m24s\u001b[0m 12ms/step - accuracy: 0.9622 - loss: 0.1122 - val_accuracy: 0.9645 - val_loss: 0.1063\n",
      "Epoch 19/20\n",
      "\u001b[1m2000/2000\u001b[0m \u001b[32m━━━━━━━━━━━━━━━━━━━━\u001b[0m\u001b[37m\u001b[0m \u001b[1m25s\u001b[0m 13ms/step - accuracy: 0.9635 - loss: 0.1096 - val_accuracy: 0.9645 - val_loss: 0.1092\n",
      "Epoch 20/20\n",
      "\u001b[1m2000/2000\u001b[0m \u001b[32m━━━━━━━━━━━━━━━━━━━━\u001b[0m\u001b[37m\u001b[0m \u001b[1m24s\u001b[0m 12ms/step - accuracy: 0.9673 - loss: 0.1002 - val_accuracy: 0.9766 - val_loss: 0.0810\n"
     ]
    },
    {
     "data": {
      "text/plain": [
       "<keras.src.callbacks.history.History at 0x7f9654f8e3b0>"
      ]
     },
     "execution_count": 62,
     "metadata": {},
     "output_type": "execute_result"
    }
   ],
   "source": [
    "StockCbowW2VwNS.model.fit(gen_batches_cbow(wiki, window=6),\n",
    "          validation_data=gen_batches_cbow(wiki,  window=6),\n",
    "          batch_size=1000,\n",
    "          steps_per_epoch=2000,\n",
    "          validation_steps=30,\n",
    "          epochs=20)"
   ]
  },
  {
   "cell_type": "code",
   "execution_count": 60,
   "id": "47e1ef3a",
   "metadata": {},
   "outputs": [
    {
     "name": "stdout",
     "output_type": "stream",
     "text": [
      "dict_keys(['accuracy', 'loss', 'val_accuracy', 'val_loss'])\n"
     ]
    },
    {
     "data": {
      "image/png": "[encoded data removed]",
      "text/plain": [
       "<Figure size 640x480 with 1 Axes>"
      ]
     },
     "metadata": {},
     "output_type": "display_data"
    }
   ],
   "source": [
    "print(StockCbowW2VwNS.model.history.history.keys())\n",
    "# summarize history for accuracy\n",
    "plt.plot(StockCbowW2VwNS.model.history.history['loss'])\n",
    "plt.plot(StockCbowW2VwNS.model.history.history['val_loss'])\n",
    "plt.title('model loss')\n",
    "plt.ylabel('loss')\n",
    "plt.xlabel('epoch')\n",
    "plt.legend(['train', 'val'], loc='upper left')\n",
    "plt.show()"
   ]
  },
  {
   "cell_type": "code",
   "execution_count": 63,
   "id": "0f184820",
   "metadata": {},
   "outputs": [],
   "source": [
    "embeddings = StockCbowW2VwNS.model.layers[2].get_weights()[0]"
   ]
  },
  {
   "cell_type": "code",
   "execution_count": 64,
   "id": "131297da",
   "metadata": {},
   "outputs": [
    {
     "data": {
      "text/plain": [
       "['любовь',\n",
       " 'близка',\n",
       " 'уважение',\n",
       " 'сердце',\n",
       " 'восходит',\n",
       " 'внучка',\n",
       " 'изабелла',\n",
       " 'восприятие',\n",
       " '«любовь',\n",
       " 'любви']"
      ]
     },
     "execution_count": 64,
     "metadata": {},
     "output_type": "execute_result"
    }
   ],
   "source": [
    "most_similar('любовь', wiki, embeddings)"
   ]
  },
  {
   "cell_type": "code",
   "execution_count": 65,
   "id": "af093a51",
   "metadata": {},
   "outputs": [
    {
     "data": {
      "text/plain": [
       "['стена',\n",
       " 'изменена',\n",
       " 'разрушена',\n",
       " 'PAD',\n",
       " 'платформенные',\n",
       " 'проложена',\n",
       " 'возведена',\n",
       " 'приписана',\n",
       " 'найдена',\n",
       " 'крыша']"
      ]
     },
     "execution_count": 65,
     "metadata": {},
     "output_type": "execute_result"
    }
   ],
   "source": [
    "most_similar('стена', wiki, embeddings)"
   ]
  },
  {
   "cell_type": "markdown",
   "id": "3611efe3",
   "metadata": {},
   "source": [
    "#### А теперь обучим такие же модели, но добавим лемматизацию в препроц"
   ]
  },
  {
   "cell_type": "code",
   "execution_count": 62,
   "id": "12856e37",
   "metadata": {},
   "outputs": [
    {
     "name": "stdout",
     "output_type": "stream",
     "text": [
      "Collecting pymorphy3\n",
      "  Downloading pymorphy3-2.0.2-py3-none-any.whl.metadata (1.8 kB)\n",
      "Collecting dawg-python>=0.7.1 (from pymorphy3)\n",
      "  Using cached DAWG_Python-0.7.2-py2.py3-none-any.whl.metadata (7.0 kB)\n",
      "Collecting pymorphy3-dicts-ru (from pymorphy3)\n",
      "  Downloading pymorphy3_dicts_ru-2.4.417150.4580142-py2.py3-none-any.whl.metadata (2.0 kB)\n",
      "Downloading pymorphy3-2.0.2-py3-none-any.whl (53 kB)\n",
      "Using cached DAWG_Python-0.7.2-py2.py3-none-any.whl (11 kB)\n",
      "Downloading pymorphy3_dicts_ru-2.4.417150.4580142-py2.py3-none-any.whl (8.4 MB)\n",
      "\u001b[2K   \u001b[90m━━━━━━━━━━━━━━━━━━━━━━━━━━━━━━━━━━━━━━━━\u001b[0m \u001b[32m8.4/8.4 MB\u001b[0m \u001b[31m28.1 MB/s\u001b[0m eta \u001b[36m0:00:00\u001b[0ma \u001b[36m0:00:01\u001b[0m\n",
      "\u001b[?25hInstalling collected packages: pymorphy3-dicts-ru, dawg-python, pymorphy3\n",
      "Successfully installed dawg-python-0.7.2 pymorphy3-2.0.2 pymorphy3-dicts-ru-2.4.417150.4580142\n"
     ]
    }
   ],
   "source": [
    "!pip install pymorphy3"
   ]
  },
  {
   "cell_type": "code",
   "execution_count": 81,
   "id": "df4d40b2",
   "metadata": {},
   "outputs": [],
   "source": [
    "import pymorphy3 as pm\n",
    "from functools import lru_cache"
   ]
  },
  {
   "cell_type": "code",
   "execution_count": 82,
   "id": "a72a5c5b",
   "metadata": {},
   "outputs": [],
   "source": [
    "class LemmatizedVocab(Vocab):\n",
    "\n",
    "    morph = pm.MorphAnalyzer()\n",
    "    \n",
    "    def __init__(self, corpus_path):\n",
    "        self.itercounter = 0\n",
    "        self.totalcounter = 0\n",
    "        super().__init__(corpus_path)\n",
    "\n",
    "    @lru_cache(maxsize=30000)\n",
    "    def lemmatize(self, word:str) -> str:\n",
    "        return self.morph.parse(word)[0].normal_form\n",
    "\n",
    "    def preprocess(self, text:str) -> list[str]:\n",
    "        self.itercounter += 1\n",
    "        if self.itercounter == 1000:\n",
    "            self.itercounter = 0\n",
    "            self.totalcounter += 1000\n",
    "            print(f\"{self.totalcounter}/20000\")\n",
    "            \n",
    "        tokens = super().preprocess(text)\n",
    "        tokens = [self.lemmatize(tok) for tok in tokens]\n",
    "        return tokens"
   ]
  },
  {
   "cell_type": "code",
   "execution_count": 13,
   "id": "6ccdecf8",
   "metadata": {},
   "outputs": [
    {
     "name": "stdout",
     "output_type": "stream",
     "text": [
      "1000/20000\n",
      "2000/20000\n",
      "3000/20000\n",
      "4000/20000\n",
      "5000/20000\n",
      "6000/20000\n",
      "7000/20000\n",
      "8000/20000\n",
      "9000/20000\n",
      "10000/20000\n",
      "11000/20000\n",
      "12000/20000\n",
      "13000/20000\n",
      "14000/20000\n",
      "15000/20000\n",
      "16000/20000\n",
      "17000/20000\n",
      "18000/20000\n",
      "19000/20000\n",
      "20000/20000\n",
      "21000/20000\n",
      "22000/20000\n",
      "23000/20000\n",
      "24000/20000\n",
      "25000/20000\n",
      "26000/20000\n",
      "27000/20000\n",
      "28000/20000\n",
      "29000/20000\n",
      "30000/20000\n",
      "31000/20000\n",
      "32000/20000\n",
      "33000/20000\n",
      "34000/20000\n",
      "35000/20000\n",
      "36000/20000\n",
      "37000/20000\n",
      "38000/20000\n",
      "39000/20000\n",
      "40000/20000\n"
     ]
    }
   ],
   "source": [
    "lwiki = LemmatizedVocab(r\"data/wiki_data.txt\")"
   ]
  },
  {
   "cell_type": "code",
   "execution_count": 15,
   "id": "80c2203e",
   "metadata": {},
   "outputs": [
    {
     "data": {
      "text/plain": [
       "12461"
      ]
     },
     "execution_count": 15,
     "metadata": {},
     "output_type": "execute_result"
    }
   ],
   "source": [
    "len(lwiki.word2id)"
   ]
  },
  {
   "cell_type": "code",
   "execution_count": 16,
   "id": "268814ce",
   "metadata": {},
   "outputs": [],
   "source": [
    "class LemmatizedSkipgramW2VwNS:\n",
    "    inputs_target = keras.layers.Input(shape=(1,))\n",
    "    inputs_context = keras.layers.Input(shape=(1,))\n",
    "\n",
    "    \n",
    "    embeddings_target = keras.layers.Embedding(input_dim=len(lwiki.word2id), output_dim=200)(inputs_target, )\n",
    "    embeddings_context = keras.layers.Embedding(input_dim=len(lwiki.word2id), output_dim=200)(inputs_context, )\n",
    "\n",
    "    target = keras.layers.Flatten()(embeddings_target)\n",
    "    context = keras.layers.Flatten()(embeddings_context)\n",
    "\n",
    "    dot = keras.layers.Dot(1)([target, context])\n",
    "    outputs = keras.layers.Activation(activation='sigmoid')(dot)\n",
    "\n",
    "    model = keras.Model(inputs=[inputs_target, inputs_context], \n",
    "                        outputs=outputs)\n",
    "    optimizer = keras.optimizers.Adam(learning_rate=0.001)\n",
    "    model.compile(optimizer=optimizer,\n",
    "                loss='binary_crossentropy',\n",
    "                metrics=['accuracy'])\n",
    "    \n",
    "    model.build((None, 3))"
   ]
  },
  {
   "cell_type": "code",
   "execution_count": 20,
   "id": "66559b9e",
   "metadata": {},
   "outputs": [
    {
     "name": "stdout",
     "output_type": "stream",
     "text": [
      "Epoch 1/20\n",
      "\u001b[1m2000/2000\u001b[0m \u001b[32m━━━━━━━━━━━━━━━━━━━━\u001b[0m\u001b[37m\u001b[0m \u001b[1m13s\u001b[0m 7ms/step - accuracy: 0.7249 - loss: 0.5566 - val_accuracy: 0.7990 - val_loss: 0.4519\n",
      "Epoch 2/20\n",
      "\u001b[1m2000/2000\u001b[0m \u001b[32m━━━━━━━━━━━━━━━━━━━━\u001b[0m\u001b[37m\u001b[0m \u001b[1m13s\u001b[0m 6ms/step - accuracy: 0.8126 - loss: 0.4257 - val_accuracy: 0.8270 - val_loss: 0.3978\n",
      "Epoch 3/20\n",
      "\u001b[1m2000/2000\u001b[0m \u001b[32m━━━━━━━━━━━━━━━━━━━━\u001b[0m\u001b[37m\u001b[0m \u001b[1m13s\u001b[0m 7ms/step - accuracy: 0.8243 - loss: 0.4026 - val_accuracy: 0.8407 - val_loss: 0.3691\n",
      "Epoch 4/20\n",
      "\u001b[1m2000/2000\u001b[0m \u001b[32m━━━━━━━━━━━━━━━━━━━━\u001b[0m\u001b[37m\u001b[0m \u001b[1m13s\u001b[0m 7ms/step - accuracy: 0.8353 - loss: 0.3817 - val_accuracy: 0.8250 - val_loss: 0.4022\n",
      "Epoch 5/20\n",
      "\u001b[1m2000/2000\u001b[0m \u001b[32m━━━━━━━━━━━━━━━━━━━━\u001b[0m\u001b[37m\u001b[0m \u001b[1m14s\u001b[0m 7ms/step - accuracy: 0.8289 - loss: 0.3955 - val_accuracy: 0.8497 - val_loss: 0.3589\n",
      "Epoch 6/20\n",
      "\u001b[1m2000/2000\u001b[0m \u001b[32m━━━━━━━━━━━━━━━━━━━━\u001b[0m\u001b[37m\u001b[0m \u001b[1m13s\u001b[0m 7ms/step - accuracy: 0.8340 - loss: 0.3850 - val_accuracy: 0.8487 - val_loss: 0.3537\n",
      "Epoch 7/20\n",
      "\u001b[1m2000/2000\u001b[0m \u001b[32m━━━━━━━━━━━━━━━━━━━━\u001b[0m\u001b[37m\u001b[0m \u001b[1m13s\u001b[0m 7ms/step - accuracy: 0.8404 - loss: 0.3716 - val_accuracy: 0.8496 - val_loss: 0.3518\n",
      "Epoch 8/20\n",
      "\u001b[1m2000/2000\u001b[0m \u001b[32m━━━━━━━━━━━━━━━━━━━━\u001b[0m\u001b[37m\u001b[0m \u001b[1m13s\u001b[0m 7ms/step - accuracy: 0.8399 - loss: 0.3731 - val_accuracy: 0.8338 - val_loss: 0.3713\n",
      "Epoch 9/20\n",
      "\u001b[1m2000/2000\u001b[0m \u001b[32m━━━━━━━━━━━━━━━━━━━━\u001b[0m\u001b[37m\u001b[0m \u001b[1m13s\u001b[0m 7ms/step - accuracy: 0.8422 - loss: 0.3675 - val_accuracy: 0.8642 - val_loss: 0.3158\n",
      "Epoch 10/20\n",
      "\u001b[1m2000/2000\u001b[0m \u001b[32m━━━━━━━━━━━━━━━━━━━━\u001b[0m\u001b[37m\u001b[0m \u001b[1m14s\u001b[0m 7ms/step - accuracy: 0.8483 - loss: 0.3541 - val_accuracy: 0.8468 - val_loss: 0.3470\n",
      "Epoch 11/20\n",
      "\u001b[1m2000/2000\u001b[0m \u001b[32m━━━━━━━━━━━━━━━━━━━━\u001b[0m\u001b[37m\u001b[0m \u001b[1m14s\u001b[0m 7ms/step - accuracy: 0.8475 - loss: 0.3584 - val_accuracy: 0.8601 - val_loss: 0.3187\n",
      "Epoch 12/20\n",
      "\u001b[1m2000/2000\u001b[0m \u001b[32m━━━━━━━━━━━━━━━━━━━━\u001b[0m\u001b[37m\u001b[0m \u001b[1m15s\u001b[0m 8ms/step - accuracy: 0.8479 - loss: 0.3522 - val_accuracy: 0.8613 - val_loss: 0.3198\n",
      "Epoch 13/20\n",
      "\u001b[1m2000/2000\u001b[0m \u001b[32m━━━━━━━━━━━━━━━━━━━━\u001b[0m\u001b[37m\u001b[0m \u001b[1m14s\u001b[0m 7ms/step - accuracy: 0.8499 - loss: 0.3483 - val_accuracy: 0.8567 - val_loss: 0.3287\n",
      "Epoch 14/20\n",
      "\u001b[1m2000/2000\u001b[0m \u001b[32m━━━━━━━━━━━━━━━━━━━━\u001b[0m\u001b[37m\u001b[0m \u001b[1m15s\u001b[0m 8ms/step - accuracy: 0.8521 - loss: 0.3442 - val_accuracy: 0.8637 - val_loss: 0.3246\n",
      "Epoch 15/20\n",
      "\u001b[1m2000/2000\u001b[0m \u001b[32m━━━━━━━━━━━━━━━━━━━━\u001b[0m\u001b[37m\u001b[0m \u001b[1m14s\u001b[0m 7ms/step - accuracy: 0.8530 - loss: 0.3427 - val_accuracy: 0.8658 - val_loss: 0.3121\n",
      "Epoch 16/20\n",
      "\u001b[1m2000/2000\u001b[0m \u001b[32m━━━━━━━━━━━━━━━━━━━━\u001b[0m\u001b[37m\u001b[0m \u001b[1m15s\u001b[0m 8ms/step - accuracy: 0.8533 - loss: 0.3395 - val_accuracy: 0.8543 - val_loss: 0.3339\n",
      "Epoch 17/20\n",
      "\u001b[1m2000/2000\u001b[0m \u001b[32m━━━━━━━━━━━━━━━━━━━━\u001b[0m\u001b[37m\u001b[0m \u001b[1m15s\u001b[0m 7ms/step - accuracy: 0.8578 - loss: 0.3310 - val_accuracy: 0.8574 - val_loss: 0.3297\n",
      "Epoch 18/20\n",
      "\u001b[1m2000/2000\u001b[0m \u001b[32m━━━━━━━━━━━━━━━━━━━━\u001b[0m\u001b[37m\u001b[0m \u001b[1m15s\u001b[0m 8ms/step - accuracy: 0.8558 - loss: 0.3354 - val_accuracy: 0.8690 - val_loss: 0.2977\n",
      "Epoch 19/20\n",
      "\u001b[1m2000/2000\u001b[0m \u001b[32m━━━━━━━━━━━━━━━━━━━━\u001b[0m\u001b[37m\u001b[0m \u001b[1m15s\u001b[0m 7ms/step - accuracy: 0.8605 - loss: 0.3237 - val_accuracy: 0.8725 - val_loss: 0.3011\n",
      "Epoch 20/20\n",
      "\u001b[1m2000/2000\u001b[0m \u001b[32m━━━━━━━━━━━━━━━━━━━━\u001b[0m\u001b[37m\u001b[0m \u001b[1m15s\u001b[0m 7ms/step - accuracy: 0.8599 - loss: 0.3253 - val_accuracy: 0.8663 - val_loss: 0.3117\n"
     ]
    },
    {
     "data": {
      "text/plain": [
       "<keras.src.callbacks.history.History at 0x7f967c04ffa0>"
      ]
     },
     "execution_count": 20,
     "metadata": {},
     "output_type": "execute_result"
    }
   ],
   "source": [
    "LemmatizedSkipgramW2VwNS.model.fit(gen_batches_sg(lwiki, window=3),\n",
    "          validation_data=gen_batches_sg(lwiki,  window=3),\n",
    "          batch_size=1000,\n",
    "          steps_per_epoch=2000,\n",
    "          \n",
    "          validation_steps=30,\n",
    "          epochs=20)"
   ]
  },
  {
   "cell_type": "code",
   "execution_count": 27,
   "id": "8337ff25",
   "metadata": {},
   "outputs": [
    {
     "name": "stdout",
     "output_type": "stream",
     "text": [
      "dict_keys(['accuracy', 'loss', 'val_accuracy', 'val_loss'])\n"
     ]
    },
    {
     "data": {
      "image/png": "[encoded data removed]",
      "text/plain": [
       "<Figure size 640x480 with 1 Axes>"
      ]
     },
     "metadata": {},
     "output_type": "display_data"
    }
   ],
   "source": [
    "print(LemmatizedSkipgramW2VwNS.model.history.history.keys())\n",
    "# summarize history for accuracy\n",
    "plt.plot(LemmatizedSkipgramW2VwNS.model.history.history['loss'])\n",
    "plt.plot(LemmatizedSkipgramW2VwNS.model.history.history['val_loss'])\n",
    "plt.title('model loss')\n",
    "plt.ylabel('loss')\n",
    "plt.xlabel('epoch')\n",
    "plt.legend(['train', 'val'], loc='upper left')\n",
    "plt.show()"
   ]
  },
  {
   "cell_type": "code",
   "execution_count": 46,
   "id": "2f6a5f0b",
   "metadata": {},
   "outputs": [],
   "source": [
    "embeddings = LemmatizedSkipgramW2VwNS.model.layers[2].get_weights()[0]"
   ]
  },
  {
   "cell_type": "code",
   "execution_count": 47,
   "id": "281366e4",
   "metadata": {},
   "outputs": [
    {
     "data": {
      "text/plain": [
       "['любовь',\n",
       " 'красота',\n",
       " 'уважение',\n",
       " 'истина',\n",
       " 'справедливость',\n",
       " 'верность',\n",
       " 'вера',\n",
       " 'мама',\n",
       " 'жизни»',\n",
       " 'мой']"
      ]
     },
     "execution_count": 47,
     "metadata": {},
     "output_type": "execute_result"
    }
   ],
   "source": [
    "most_similar('любовь', lwiki, embeddings)"
   ]
  },
  {
   "cell_type": "code",
   "execution_count": 48,
   "id": "38c7121c",
   "metadata": {},
   "outputs": [
    {
     "data": {
      "text/plain": [
       "['стена',\n",
       " 'башня',\n",
       " 'фасад',\n",
       " 'ограда',\n",
       " 'купол',\n",
       " 'кирпичный',\n",
       " 'деревянный',\n",
       " 'каменный',\n",
       " 'колокольня',\n",
       " 'кровля']"
      ]
     },
     "execution_count": 48,
     "metadata": {},
     "output_type": "execute_result"
    }
   ],
   "source": [
    "most_similar('стена', lwiki, embeddings)"
   ]
  },
  {
   "cell_type": "markdown",
   "id": "5406a3e9",
   "metadata": {},
   "source": [
    "#### Только тут добавим шагов\n",
    "\n",
    "А еще на этом этапе я понял, что ошибка Куды возникает не по какой-то конкретно причине, а когда самой Куде заблагорассудится"
   ]
  },
  {
   "cell_type": "code",
   "execution_count": 28,
   "id": "1f6ae34e",
   "metadata": {},
   "outputs": [],
   "source": [
    "class LemmatizedCbowW2VwNS:\n",
    "    #cbow negative sampling\n",
    "    inputs_target = keras.layers.Input(shape=(1,))\n",
    "    inputs_context = keras.layers.Input(shape=(6,))\n",
    "\n",
    "\n",
    "    embeddings_target = keras.layers.Embedding(input_dim=len(lwiki.word2id), output_dim=300)(inputs_target, )\n",
    "    embeddings_context = keras.layers.Embedding(input_dim=len(lwiki.word2id), output_dim=300)(inputs_context, )\n",
    "\n",
    "    target = keras.layers.Flatten()(embeddings_target)\n",
    "    context = keras.layers.Lambda(lambda x: x.sum(axis=1))(embeddings_context)\n",
    "    dot = keras.layers.Dot(1)([target, context])\n",
    "\n",
    "    # полученную близость нужно преобразовать в вероятность\n",
    "    # когда она одна используется не софтмакс и сигмоида\n",
    "    outputs = keras.layers.Activation(activation='sigmoid')(dot)\n",
    "\n",
    "    model = keras.Model(inputs=[inputs_target, inputs_context], \n",
    "                        outputs=outputs)\n",
    "\n",
    "\n",
    "    optimizer = keras.optimizers.Adam(learning_rate=0.001)\n",
    "    model.compile(optimizer=optimizer,\n",
    "                loss='binary_crossentropy',\n",
    "                metrics=['accuracy'])\n",
    "    model.build([(None, 1), (None, 6)])\n"
   ]
  },
  {
   "cell_type": "code",
   "execution_count": 29,
   "id": "6441a101",
   "metadata": {},
   "outputs": [
    {
     "name": "stdout",
     "output_type": "stream",
     "text": [
      "Epoch 1/20\n",
      "\u001b[1m7000/7000\u001b[0m \u001b[32m━━━━━━━━━━━━━━━━━━━━\u001b[0m\u001b[37m\u001b[0m \u001b[1m70s\u001b[0m 10ms/step - accuracy: 0.8244 - loss: 0.3985 - val_accuracy: 0.8895 - val_loss: 0.2717\n",
      "Epoch 2/20\n",
      "\u001b[1m7000/7000\u001b[0m \u001b[32m━━━━━━━━━━━━━━━━━━━━\u001b[0m\u001b[37m\u001b[0m \u001b[1m72s\u001b[0m 10ms/step - accuracy: 0.8930 - loss: 0.2624 - val_accuracy: 0.9149 - val_loss: 0.2110\n",
      "Epoch 3/20\n",
      "\u001b[1m7000/7000\u001b[0m \u001b[32m━━━━━━━━━━━━━━━━━━━━\u001b[0m\u001b[37m\u001b[0m \u001b[1m72s\u001b[0m 10ms/step - accuracy: 0.9138 - loss: 0.2144 - val_accuracy: 0.9449 - val_loss: 0.1505\n",
      "Epoch 4/20\n",
      "\u001b[1m7000/7000\u001b[0m \u001b[32m━━━━━━━━━━━━━━━━━━━━\u001b[0m\u001b[37m\u001b[0m \u001b[1m72s\u001b[0m 10ms/step - accuracy: 0.9269 - loss: 0.1845 - val_accuracy: 0.9527 - val_loss: 0.1386\n",
      "Epoch 5/20\n",
      "\u001b[1m7000/7000\u001b[0m \u001b[32m━━━━━━━━━━━━━━━━━━━━\u001b[0m\u001b[37m\u001b[0m \u001b[1m72s\u001b[0m 10ms/step - accuracy: 0.9400 - loss: 0.1561 - val_accuracy: 0.9624 - val_loss: 0.1153\n",
      "Epoch 6/20\n",
      "\u001b[1m7000/7000\u001b[0m \u001b[32m━━━━━━━━━━━━━━━━━━━━\u001b[0m\u001b[37m\u001b[0m \u001b[1m72s\u001b[0m 10ms/step - accuracy: 0.9476 - loss: 0.1407 - val_accuracy: 0.9525 - val_loss: 0.1285\n",
      "Epoch 7/20\n",
      "\u001b[1m7000/7000\u001b[0m \u001b[32m━━━━━━━━━━━━━━━━━━━━\u001b[0m\u001b[37m\u001b[0m \u001b[1m72s\u001b[0m 10ms/step - accuracy: 0.9535 - loss: 0.1293 - val_accuracy: 0.9612 - val_loss: 0.1142\n",
      "Epoch 8/20\n",
      "\u001b[1m7000/7000\u001b[0m \u001b[32m━━━━━━━━━━━━━━━━━━━━\u001b[0m\u001b[37m\u001b[0m \u001b[1m72s\u001b[0m 10ms/step - accuracy: 0.9583 - loss: 0.1194 - val_accuracy: 0.9681 - val_loss: 0.1022\n",
      "Epoch 9/20\n",
      "\u001b[1m7000/7000\u001b[0m \u001b[32m━━━━━━━━━━━━━━━━━━━━\u001b[0m\u001b[37m\u001b[0m \u001b[1m71s\u001b[0m 10ms/step - accuracy: 0.9614 - loss: 0.1140 - val_accuracy: 0.9712 - val_loss: 0.0953\n",
      "Epoch 10/20\n",
      "\u001b[1m7000/7000\u001b[0m \u001b[32m━━━━━━━━━━━━━━━━━━━━\u001b[0m\u001b[37m\u001b[0m \u001b[1m73s\u001b[0m 10ms/step - accuracy: 0.9652 - loss: 0.1054 - val_accuracy: 0.9758 - val_loss: 0.0801\n",
      "Epoch 11/20\n",
      "\u001b[1m7000/7000\u001b[0m \u001b[32m━━━━━━━━━━━━━━━━━━━━\u001b[0m\u001b[37m\u001b[0m \u001b[1m72s\u001b[0m 10ms/step - accuracy: 0.9679 - loss: 0.0994 - val_accuracy: 0.9662 - val_loss: 0.1018\n",
      "Epoch 12/20\n",
      "\u001b[1m7000/7000\u001b[0m \u001b[32m━━━━━━━━━━━━━━━━━━━━\u001b[0m\u001b[37m\u001b[0m \u001b[1m72s\u001b[0m 10ms/step - accuracy: 0.9688 - loss: 0.0978 - val_accuracy: 0.9695 - val_loss: 0.0995\n",
      "Epoch 13/20\n",
      "\u001b[1m7000/7000\u001b[0m \u001b[32m━━━━━━━━━━━━━━━━━━━━\u001b[0m\u001b[37m\u001b[0m \u001b[1m71s\u001b[0m 10ms/step - accuracy: 0.9702 - loss: 0.0950 - val_accuracy: 0.9716 - val_loss: 0.0949\n",
      "Epoch 14/20\n",
      "\u001b[1m7000/7000\u001b[0m \u001b[32m━━━━━━━━━━━━━━━━━━━━\u001b[0m\u001b[37m\u001b[0m \u001b[1m70s\u001b[0m 10ms/step - accuracy: 0.9711 - loss: 0.0934 - val_accuracy: 0.9772 - val_loss: 0.0824\n",
      "Epoch 15/20\n",
      "\u001b[1m7000/7000\u001b[0m \u001b[32m━━━━━━━━━━━━━━━━━━━━\u001b[0m\u001b[37m\u001b[0m \u001b[1m70s\u001b[0m 10ms/step - accuracy: 0.9728 - loss: 0.0892 - val_accuracy: 0.9808 - val_loss: 0.0698\n",
      "Epoch 16/20\n",
      "\u001b[1m7000/7000\u001b[0m \u001b[32m━━━━━━━━━━━━━━━━━━━━\u001b[0m\u001b[37m\u001b[0m \u001b[1m70s\u001b[0m 10ms/step - accuracy: 0.9740 - loss: 0.0863 - val_accuracy: 0.9715 - val_loss: 0.0928\n",
      "Epoch 17/20\n",
      "\u001b[1m7000/7000\u001b[0m \u001b[32m━━━━━━━━━━━━━━━━━━━━\u001b[0m\u001b[37m\u001b[0m \u001b[1m71s\u001b[0m 10ms/step - accuracy: 0.9742 - loss: 0.0861 - val_accuracy: 0.9738 - val_loss: 0.0853\n",
      "Epoch 18/20\n",
      "\u001b[1m7000/7000\u001b[0m \u001b[32m━━━━━━━━━━━━━━━━━━━━\u001b[0m\u001b[37m\u001b[0m \u001b[1m71s\u001b[0m 10ms/step - accuracy: 0.9747 - loss: 0.0851 - val_accuracy: 0.9734 - val_loss: 0.0884\n",
      "Epoch 19/20\n",
      "\u001b[1m7000/7000\u001b[0m \u001b[32m━━━━━━━━━━━━━━━━━━━━\u001b[0m\u001b[37m\u001b[0m \u001b[1m70s\u001b[0m 10ms/step - accuracy: 0.9750 - loss: 0.0848 - val_accuracy: 0.9799 - val_loss: 0.0713\n",
      "Epoch 20/20\n",
      "\u001b[1m7000/7000\u001b[0m \u001b[32m━━━━━━━━━━━━━━━━━━━━\u001b[0m\u001b[37m\u001b[0m \u001b[1m70s\u001b[0m 10ms/step - accuracy: 0.9761 - loss: 0.0816 - val_accuracy: 0.9818 - val_loss: 0.0670\n"
     ]
    },
    {
     "data": {
      "text/plain": [
       "<keras.src.callbacks.history.History at 0x7f96550f54e0>"
      ]
     },
     "execution_count": 29,
     "metadata": {},
     "output_type": "execute_result"
    }
   ],
   "source": [
    "LemmatizedCbowW2VwNS.model.fit(gen_batches_cbow(lwiki, window=6),\n",
    "          validation_data=gen_batches_cbow(lwiki,  window=6),\n",
    "          batch_size=1000,\n",
    "          steps_per_epoch=7000,\n",
    "          validation_steps=30,\n",
    "          epochs=20)"
   ]
  },
  {
   "cell_type": "code",
   "execution_count": 30,
   "id": "7f0e5b0e",
   "metadata": {},
   "outputs": [
    {
     "name": "stdout",
     "output_type": "stream",
     "text": [
      "dict_keys(['accuracy', 'loss', 'val_accuracy', 'val_loss'])\n"
     ]
    },
    {
     "data": {
      "image/png": "[encoded data removed]",
      "text/plain": [
       "<Figure size 640x480 with 1 Axes>"
      ]
     },
     "metadata": {},
     "output_type": "display_data"
    }
   ],
   "source": [
    "print(LemmatizedCbowW2VwNS.model.history.history.keys())\n",
    "# summarize history for accuracy\n",
    "plt.plot(LemmatizedCbowW2VwNS.model.history.history['loss'])\n",
    "plt.plot(LemmatizedCbowW2VwNS.model.history.history['val_loss'])\n",
    "plt.title('model loss')\n",
    "plt.ylabel('loss')\n",
    "plt.xlabel('epoch')\n",
    "plt.legend(['train', 'val'], loc='upper left')\n",
    "plt.show()"
   ]
  },
  {
   "cell_type": "code",
   "execution_count": 31,
   "id": "3a953359",
   "metadata": {},
   "outputs": [],
   "source": [
    "embeddings = LemmatizedCbowW2VwNS.model.layers[2].get_weights()[0]"
   ]
  },
  {
   "cell_type": "code",
   "execution_count": 35,
   "id": "12bf0459",
   "metadata": {},
   "outputs": [
    {
     "data": {
      "text/plain": [
       "['любовь',\n",
       " 'страсть',\n",
       " 'старина',\n",
       " 'бог',\n",
       " 'поступок',\n",
       " 'сожаление',\n",
       " 'доверие',\n",
       " 'ненависть',\n",
       " 'уважение',\n",
       " 'воспитывать']"
      ]
     },
     "execution_count": 35,
     "metadata": {},
     "output_type": "execute_result"
    }
   ],
   "source": [
    "most_similar('любовь', lwiki, embeddings)"
   ]
  },
  {
   "cell_type": "code",
   "execution_count": 45,
   "id": "fa6535bb",
   "metadata": {},
   "outputs": [
    {
     "data": {
      "text/plain": [
       "['стена',\n",
       " 'ворота',\n",
       " 'дверь',\n",
       " 'проём',\n",
       " 'неф',\n",
       " 'фасад',\n",
       " 'статуя',\n",
       " 'иконостас',\n",
       " 'мозаика',\n",
       " 'фреска']"
      ]
     },
     "execution_count": 45,
     "metadata": {},
     "output_type": "execute_result"
    }
   ],
   "source": [
    "most_similar('стена', lwiki, embeddings)"
   ]
  },
  {
   "cell_type": "markdown",
   "id": "c3b61b7c",
   "metadata": {},
   "source": [
    "# Задание 2 (2 балла)"
   ]
  },
  {
   "cell_type": "markdown",
   "id": "66eff080",
   "metadata": {},
   "source": [
    "Обучите 1 word2vec и 1 fastext модель в gensim. В каждой из модели нужно задать все параметры, которые мы разбирали на семинаре. Заданные значения должны отличаться от дефолтных и от тех, что мы использовали на семинаре."
   ]
  },
  {
   "cell_type": "code",
   "execution_count": 4,
   "id": "986c2018",
   "metadata": {},
   "outputs": [],
   "source": [
    "import gensim"
   ]
  },
  {
   "cell_type": "code",
   "execution_count": 15,
   "id": "e5035bdc",
   "metadata": {},
   "outputs": [],
   "source": [
    "class GensimVocab(Vocab):\n",
    "\n",
    "    def __init__(self, corpus_path:str):\n",
    "\n",
    "        with open(corpus_path) as file:\n",
    "            texts = file.read().split('\\n')\n",
    "\n",
    "        self.texts = [self.preprocess(text) for text in texts]\n",
    "\n"
   ]
  },
  {
   "cell_type": "code",
   "execution_count": 16,
   "id": "1ebc63b3",
   "metadata": {},
   "outputs": [],
   "source": [
    "gensim_wiki = GensimVocab(r\"data/wiki_data.txt\")"
   ]
  },
  {
   "cell_type": "code",
   "execution_count": 52,
   "id": "303364cc",
   "metadata": {},
   "outputs": [],
   "source": [
    "gensim_w2v = gensim.models.Word2Vec(\n",
    "    gensim_wiki.texts,\n",
    "    vector_size=321,\n",
    "    min_count=15,\n",
    "    max_vocab_size=1000000000,\n",
    "    window=7,\n",
    "    epochs=10\n",
    ")"
   ]
  },
  {
   "cell_type": "code",
   "execution_count": 58,
   "id": "88e5e403",
   "metadata": {},
   "outputs": [
    {
     "data": {
      "text/plain": [
       "32750"
      ]
     },
     "execution_count": 58,
     "metadata": {},
     "output_type": "execute_result"
    }
   ],
   "source": [
    "len(gensim_w2v.wv.key_to_index)"
   ]
  },
  {
   "cell_type": "code",
   "execution_count": 57,
   "id": "31cc3c4c",
   "metadata": {},
   "outputs": [
    {
     "data": {
      "text/plain": [
       "[('любви', 0.7611179351806641),\n",
       " ('страсть', 0.7200191020965576),\n",
       " ('уважения', 0.7165058255195618),\n",
       " ('миссис', 0.7048069834709167),\n",
       " ('богу', 0.7007331252098083),\n",
       " ('мужу', 0.7006232738494873),\n",
       " ('молодая', 0.6973824501037598),\n",
       " ('энни', 0.6760882139205933),\n",
       " ('любовью', 0.674912691116333),\n",
       " ('кураж', 0.6737788915634155)]"
      ]
     },
     "execution_count": 57,
     "metadata": {},
     "output_type": "execute_result"
    }
   ],
   "source": [
    "gensim_w2v.wv.most_similar('любовь')"
   ]
  },
  {
   "cell_type": "markdown",
   "id": "91ce8aa0",
   "metadata": {},
   "source": [
    "### Не нравится результат, пробуем еще"
   ]
  },
  {
   "cell_type": "code",
   "execution_count": 59,
   "id": "66c82a87",
   "metadata": {},
   "outputs": [],
   "source": [
    "gensim_w2v = gensim.models.Word2Vec(\n",
    "    gensim_wiki.texts,\n",
    "    vector_size=666,\n",
    "    min_count=20,\n",
    "    max_vocab_size=1000000000,\n",
    "    window=9,\n",
    "    epochs=10\n",
    ")"
   ]
  },
  {
   "cell_type": "code",
   "execution_count": 63,
   "id": "dca4d899",
   "metadata": {},
   "outputs": [
    {
     "data": {
      "text/plain": [
       "25344"
      ]
     },
     "execution_count": 63,
     "metadata": {},
     "output_type": "execute_result"
    }
   ],
   "source": [
    "len(gensim_w2v.wv.key_to_index)"
   ]
  },
  {
   "cell_type": "code",
   "execution_count": 61,
   "id": "3fb4ae8f",
   "metadata": {},
   "outputs": [
    {
     "data": {
      "text/plain": [
       "[('любви', 0.7644326686859131),\n",
       " ('миссис', 0.7369166612625122),\n",
       " ('молодая', 0.7276000380516052),\n",
       " ('страсть', 0.7124125957489014),\n",
       " ('мама', 0.6970254778862),\n",
       " ('чувства', 0.6925723552703857),\n",
       " ('радость', 0.6910911202430725),\n",
       " ('богу', 0.6889956593513489),\n",
       " ('вере', 0.6889660954475403),\n",
       " ('сердце', 0.6864920854568481)]"
      ]
     },
     "execution_count": 61,
     "metadata": {},
     "output_type": "execute_result"
    }
   ],
   "source": [
    "gensim_w2v.wv.most_similar('любовь')"
   ]
  },
  {
   "cell_type": "markdown",
   "id": "2983d92f",
   "metadata": {},
   "source": [
    "### Все еще не устраивает"
   ]
  },
  {
   "cell_type": "code",
   "execution_count": 65,
   "id": "8d448d02",
   "metadata": {},
   "outputs": [],
   "source": [
    "gensim_w2v = gensim.models.Word2Vec(\n",
    "    gensim_wiki.texts,\n",
    "    vector_size=666,\n",
    "    min_count=20,\n",
    "    max_vocab_size=1000000000,\n",
    "    window=9,\n",
    "    epochs=10,                             \n",
    "    hs=0,\n",
    "    negative=15,\n",
    "    sample=1e-4,\n",
    "    sg=0  ##  пытался с 1, оч долго учится\n",
    ")"
   ]
  },
  {
   "cell_type": "code",
   "execution_count": 66,
   "id": "2f2ae469",
   "metadata": {},
   "outputs": [
    {
     "data": {
      "text/plain": [
       "25344"
      ]
     },
     "execution_count": 66,
     "metadata": {},
     "output_type": "execute_result"
    }
   ],
   "source": [
    "len(gensim_w2v.wv.key_to_index)"
   ]
  },
  {
   "cell_type": "code",
   "execution_count": 67,
   "id": "38e1c43c",
   "metadata": {},
   "outputs": [
    {
     "data": {
      "text/plain": [
       "[('любви', 0.8729708194732666),\n",
       " ('мама', 0.805396318435669),\n",
       " ('счастье', 0.7944716215133667),\n",
       " ('душой', 0.7936839461326599),\n",
       " ('возлюбленной', 0.7911733984947205),\n",
       " ('чувства', 0.7888699769973755),\n",
       " ('радость', 0.7762786149978638),\n",
       " ('вера', 0.7742260098457336),\n",
       " ('любовью', 0.7737452983856201),\n",
       " ('девушке', 0.7720531225204468)]"
      ]
     },
     "execution_count": 67,
     "metadata": {},
     "output_type": "execute_result"
    }
   ],
   "source": [
    "gensim_w2v.wv.most_similar('любовь')"
   ]
  },
  {
   "cell_type": "markdown",
   "id": "84f59107",
   "metadata": {},
   "source": [
    "###  <u><b>Так-то лучше.</b></u>\n",
    "\n",
    "#### Теперь попробуем фасттекст дефолтный и с такими же параметрами, как w2v"
   ]
  },
  {
   "cell_type": "code",
   "execution_count": 70,
   "id": "67e3ea8f",
   "metadata": {},
   "outputs": [],
   "source": [
    "stock_gensim_ft = gensim.models.FastText(\n",
    "    gensim_wiki.texts,\n",
    ")"
   ]
  },
  {
   "cell_type": "code",
   "execution_count": 71,
   "id": "1f81b064",
   "metadata": {},
   "outputs": [
    {
     "data": {
      "text/plain": [
       "85552"
      ]
     },
     "execution_count": 71,
     "metadata": {},
     "output_type": "execute_result"
    }
   ],
   "source": [
    "len(stock_gensim_ft.wv.key_to_index)"
   ]
  },
  {
   "cell_type": "code",
   "execution_count": 72,
   "id": "2035a1e8",
   "metadata": {},
   "outputs": [
    {
     "data": {
      "text/plain": [
       "[('любовь»', 0.9752085208892822),\n",
       " ('«любовь', 0.954326331615448),\n",
       " ('любовницу', 0.9413809180259705),\n",
       " ('любовью', 0.9279448390007019),\n",
       " ('любовниц', 0.8798756003379822),\n",
       " ('любви', 0.8763165473937988),\n",
       " ('люблю', 0.8715306520462036),\n",
       " ('любэ', 0.8708557486534119),\n",
       " ('лю', 0.8708375096321106),\n",
       " ('люк', 0.8225675821304321)]"
      ]
     },
     "execution_count": 72,
     "metadata": {},
     "output_type": "execute_result"
    }
   ],
   "source": [
    "stock_gensim_ft.wv.most_similar('любовь')"
   ]
  },
  {
   "cell_type": "code",
   "execution_count": 73,
   "id": "5e5c3708",
   "metadata": {},
   "outputs": [],
   "source": [
    "gensim_ft = gensim.models.Word2Vec(\n",
    "    gensim_wiki.texts,\n",
    "    vector_size=666,\n",
    "    min_count=20,\n",
    "    max_vocab_size=1000000000,\n",
    "    window=9,\n",
    "    epochs=10\n",
    ")"
   ]
  },
  {
   "cell_type": "code",
   "execution_count": 74,
   "id": "3a38e780",
   "metadata": {},
   "outputs": [
    {
     "data": {
      "text/plain": [
       "25344"
      ]
     },
     "execution_count": 74,
     "metadata": {},
     "output_type": "execute_result"
    }
   ],
   "source": [
    "len(gensim_ft.wv.key_to_index)"
   ]
  },
  {
   "cell_type": "code",
   "execution_count": 75,
   "id": "3f59ea62",
   "metadata": {},
   "outputs": [
    {
     "data": {
      "text/plain": [
       "[('любви', 0.7707892656326294),\n",
       " ('миссис', 0.72881019115448),\n",
       " ('мама', 0.7225119471549988),\n",
       " ('молодая', 0.7186397910118103),\n",
       " ('чувства', 0.7150588035583496),\n",
       " ('надежду', 0.6914793848991394),\n",
       " ('любовью', 0.6910414099693298),\n",
       " ('чарли', 0.6909416317939758),\n",
       " ('нина', 0.6892678141593933),\n",
       " ('девочка', 0.6823583245277405)]"
      ]
     },
     "execution_count": 75,
     "metadata": {},
     "output_type": "execute_result"
    }
   ],
   "source": [
    "gensim_ft.wv.most_similar('любовь')"
   ]
  },
  {
   "cell_type": "markdown",
   "id": "7fcdd7bf",
   "metadata": {},
   "source": [
    "####  И на скипграммах одну ради приличия"
   ]
  },
  {
   "cell_type": "code",
   "execution_count": 76,
   "id": "21bea99c",
   "metadata": {},
   "outputs": [],
   "source": [
    "sg_gensim_ft = gensim.models.FastText(\n",
    "    gensim_wiki.texts,\n",
    "    sg=1\n",
    ")"
   ]
  },
  {
   "cell_type": "code",
   "execution_count": 77,
   "id": "89112ee1",
   "metadata": {},
   "outputs": [
    {
     "data": {
      "text/plain": [
       "85552"
      ]
     },
     "execution_count": 77,
     "metadata": {},
     "output_type": "execute_result"
    }
   ],
   "source": [
    "len(sg_gensim_ft.wv.key_to_index)"
   ]
  },
  {
   "cell_type": "code",
   "execution_count": 78,
   "id": "fc54a0e2",
   "metadata": {},
   "outputs": [
    {
     "data": {
      "text/plain": [
       "[('любовь»', 0.9327369332313538),\n",
       " ('«любовь', 0.917993426322937),\n",
       " ('любовью', 0.8782020807266235),\n",
       " ('любовница', 0.8601531386375427),\n",
       " ('любви', 0.8456097841262817),\n",
       " ('любимая', 0.8011912107467651),\n",
       " ('любэ', 0.7984287142753601),\n",
       " ('любовницу', 0.7908124327659607),\n",
       " ('любишь', 0.7775978446006775),\n",
       " ('любовниц', 0.776543140411377)]"
      ]
     },
     "execution_count": 78,
     "metadata": {},
     "output_type": "execute_result"
    }
   ],
   "source": [
    "sg_gensim_ft.wv.most_similar('любовь')"
   ]
  },
  {
   "cell_type": "markdown",
   "id": "e4bb928c",
   "metadata": {},
   "source": [
    "# Задание 3 (3 балла)"
   ]
  },
  {
   "cell_type": "markdown",
   "id": "3019b0d1",
   "metadata": {},
   "source": [
    "Используя датасет для классификации (labeled.csv), обучите классификатор на базе эмбеддингов. Оцените качество на отложенной выборке.   \n",
    "В качестве эмбеддинг модели вы можете использовать одну из моделей обученных в предыдущем задании или использовать одну из предобученных моделей с rusvectores (удостоверьтесь что правильно воспроизводите предобработку в этом случае!)  \n",
    "Для того, чтобы построить эмбединг целого текста, усредните вектора отдельных слов в один общий вектор. \n",
    "В качестве алгоритма классификации используйте LogisicticRegression (можете попробовать SGDClassifier, чтобы было побыстрее)  \n",
    "F1 мера должна быть выше 20%. "
   ]
  },
  {
   "cell_type": "markdown",
   "id": "5fcda1ee",
   "metadata": {},
   "source": [
    "#### Кажется, что для решения этой задачи можно попробовать word2vec и на леммах тоже тк тексты маленькие "
   ]
  },
  {
   "cell_type": "code",
   "execution_count": 85,
   "id": "3884e2e4",
   "metadata": {},
   "outputs": [],
   "source": [
    "class LemmatizedGensimVocab(LemmatizedVocab):\n",
    "\n",
    "    def __init__(self, corpus_path:str):\n",
    "\n",
    "        self.itercounter = 0\n",
    "        self.totalcounter = 0\n",
    "\n",
    "        with open(corpus_path) as file:\n",
    "            texts = file.read().split('\\n')\n",
    "\n",
    "        self.texts = [self.preprocess(text) for text in texts]"
   ]
  },
  {
   "cell_type": "code",
   "execution_count": 87,
   "id": "0affb99a",
   "metadata": {},
   "outputs": [
    {
     "name": "stdout",
     "output_type": "stream",
     "text": [
      "1000/20000\n",
      "2000/20000\n",
      "3000/20000\n",
      "4000/20000\n",
      "5000/20000\n",
      "6000/20000\n",
      "7000/20000\n",
      "8000/20000\n",
      "9000/20000\n",
      "10000/20000\n",
      "11000/20000\n",
      "12000/20000\n",
      "13000/20000\n",
      "14000/20000\n",
      "15000/20000\n",
      "16000/20000\n",
      "17000/20000\n",
      "18000/20000\n",
      "19000/20000\n",
      "20000/20000\n"
     ]
    }
   ],
   "source": [
    "gensim_lwiki = LemmatizedGensimVocab(r\"data/wiki_data.txt\")"
   ]
  },
  {
   "cell_type": "code",
   "execution_count": 88,
   "id": "e12cc78f",
   "metadata": {},
   "outputs": [],
   "source": [
    "l_gensim_w2v = gensim.models.Word2Vec(\n",
    "    gensim_lwiki.texts,\n",
    "    vector_size=666,\n",
    "    min_count=20,\n",
    "    max_vocab_size=1000000000,\n",
    "    window=9,\n",
    "    epochs=10,                             \n",
    "    hs=0,\n",
    "    negative=15,\n",
    "    sample=1e-4,\n",
    "    sg=0  ##  пытался с 1, оч долго учится\n",
    ")"
   ]
  },
  {
   "cell_type": "code",
   "execution_count": 89,
   "id": "baa5a508",
   "metadata": {},
   "outputs": [
    {
     "data": {
      "text/plain": [
       "17222"
      ]
     },
     "execution_count": 89,
     "metadata": {},
     "output_type": "execute_result"
    }
   ],
   "source": [
    "len(l_gensim_w2v.wv.key_to_index)"
   ]
  },
  {
   "cell_type": "code",
   "execution_count": 90,
   "id": "6d5a93bc",
   "metadata": {},
   "outputs": [
    {
     "data": {
      "text/plain": [
       "[('чувство', 0.787438154220581),\n",
       " ('счастие', 0.7733960747718811),\n",
       " ('страсть', 0.772852897644043),\n",
       " ('добрый', 0.7474283576011658),\n",
       " ('радость', 0.7422782778739929),\n",
       " ('красота', 0.7390154600143433),\n",
       " ('восхищение', 0.737478494644165),\n",
       " ('любящий', 0.7254791855812073),\n",
       " ('преданность', 0.7235020399093628),\n",
       " ('влюбить', 0.7133684158325195)]"
      ]
     },
     "execution_count": 90,
     "metadata": {},
     "output_type": "execute_result"
    }
   ],
   "source": [
    "l_gensim_w2v.wv.most_similar('любовь')"
   ]
  },
  {
   "cell_type": "markdown",
   "id": "392c3d87",
   "metadata": {},
   "source": [
    "#### Теперь загрузим датасет и выдумаем классификатор"
   ]
  },
  {
   "cell_type": "code",
   "execution_count": 91,
   "id": "6104121d",
   "metadata": {},
   "outputs": [],
   "source": [
    "from sklearn.linear_model import LogisticRegression\n",
    "from sklearn.metrics import classification_report\n",
    "\n",
    "import pandas as pd"
   ]
  },
  {
   "cell_type": "code",
   "execution_count": 93,
   "id": "4ac4436a",
   "metadata": {},
   "outputs": [],
   "source": [
    "labeled = pd.read_csv(r\"data/labeled.csv\")\n",
    "\n",
    "TRAIN, TEST = train_test_split(labeled, test_size=0.1, shuffle=True, random_state=666)\n",
    "TRAIN.reset_index(inplace=True)\n",
    "TEST.reset_index(inplace=True)"
   ]
  },
  {
   "cell_type": "code",
   "execution_count": 103,
   "id": "d75f54c0",
   "metadata": {},
   "outputs": [
    {
     "data": {
      "text/plain": [
       "'Лучше бы вам pgn 300 выписали, сами поразитесь какой вы болтливый.)\\n'"
      ]
     },
     "execution_count": 103,
     "metadata": {},
     "output_type": "execute_result"
    }
   ],
   "source": [
    "TRAIN[\"comment\"].values[0]"
   ]
  },
  {
   "cell_type": "code",
   "execution_count": 138,
   "id": "2f48e045",
   "metadata": {},
   "outputs": [],
   "source": [
    "class ToxicClassifier:\n",
    "\n",
    "    def __init__(self, vectorizer: gensim.models.Word2Vec, vocab: Vocab):\n",
    "        self.vectorizer = vectorizer\n",
    "        self.vocab = vocab\n",
    "\n",
    "        # Такая модель показала лучшие результаты в дз2\n",
    "        self.classifier = LogisticRegression(\n",
    "            solver =\"liblinear\",\n",
    "            penalty=\"l2\"       ,\n",
    "        )\n",
    "\n",
    "        X = [\n",
    "            self.text_to_vector(comment)\n",
    "            for comment\n",
    "            in TRAIN[\"comment\"].values\n",
    "        ]\n",
    "        y = TRAIN[\"toxic\"].values\n",
    "\n",
    "        self.classifier.fit(X, y)\n",
    "            \n",
    "    def text_to_vector(self, text):\n",
    "        tokens = self.vocab.preprocess(text)\n",
    "        vector = np.zeros(self.vectorizer.vector_size)\n",
    "        count = 0\n",
    "        for token in tokens:\n",
    "            if token in self.vectorizer.wv:\n",
    "                vector += self.vectorizer.wv[token]\n",
    "                count += 1\n",
    "        if count > 0:\n",
    "            vector /= count\n",
    "        return vector\n",
    "    \n",
    "    def get_preds(self, texts, verbose=False):\n",
    "        X = [\n",
    "            self.text_to_vector(text)\n",
    "            for text\n",
    "            in texts\n",
    "        ]\n",
    "        preds = self.classifier.predict(X)\n",
    "\n",
    "        if verbose:\n",
    "            preds = [\n",
    "                (\"OK\", \"Toxic\")[int(pred)]\n",
    "                for pred\n",
    "                in preds\n",
    "            ]\n",
    "\n",
    "        return preds"
   ]
  },
  {
   "cell_type": "code",
   "execution_count": 139,
   "id": "87276534",
   "metadata": {},
   "outputs": [],
   "source": [
    "toxic_classifier_stock_w2v = ToxicClassifier(\n",
    "    gensim_w2v,\n",
    "    gensim_wiki,\n",
    ")"
   ]
  },
  {
   "cell_type": "code",
   "execution_count": 140,
   "id": "f52ab854",
   "metadata": {},
   "outputs": [
    {
     "data": {
      "text/plain": [
       "['OK']"
      ]
     },
     "execution_count": 140,
     "metadata": {},
     "output_type": "execute_result"
    }
   ],
   "source": [
    "toxic_classifier_stock_w2v.get_preds(\n",
    "    [\"Люди всё время меня спрашивают: знаю ли я Тайлера Дёрдена?\"],\n",
    "    verbose=True\n",
    ")"
   ]
  },
  {
   "cell_type": "code",
   "execution_count": 141,
   "id": "319c8200",
   "metadata": {},
   "outputs": [
    {
     "data": {
      "text/plain": [
       "['Toxic']"
      ]
     },
     "execution_count": 141,
     "metadata": {},
     "output_type": "execute_result"
    }
   ],
   "source": [
    "toxic_classifier_stock_w2v.get_preds(\n",
    "    [\"Как же я ненавижу австралийцев\"],\n",
    "    verbose=True\n",
    ")"
   ]
  },
  {
   "cell_type": "code",
   "execution_count": 142,
   "id": "b70e317d",
   "metadata": {},
   "outputs": [
    {
     "name": "stdout",
     "output_type": "stream",
     "text": [
      "              precision    recall  f1-score   support\n",
      "\n",
      "         0.0       0.82      0.89      0.85       980\n",
      "         1.0       0.72      0.57      0.64       462\n",
      "\n",
      "    accuracy                           0.79      1442\n",
      "   macro avg       0.77      0.73      0.75      1442\n",
      "weighted avg       0.79      0.79      0.78      1442\n",
      "\n"
     ]
    }
   ],
   "source": [
    "print(\n",
    "    classification_report(\n",
    "        TEST[\"toxic\"].values,\n",
    "        toxic_classifier_stock_w2v.get_preds(\n",
    "            TEST[\"comment\"].values\n",
    "        ),\n",
    "        zero_division=0\n",
    "    )\n",
    ")"
   ]
  },
  {
   "cell_type": "code",
   "execution_count": 143,
   "id": "893ff2a9",
   "metadata": {},
   "outputs": [
    {
     "name": "stdout",
     "output_type": "stream",
     "text": [
      "21000/20000\n",
      "22000/20000\n",
      "23000/20000\n",
      "24000/20000\n",
      "25000/20000\n",
      "26000/20000\n",
      "27000/20000\n",
      "28000/20000\n",
      "29000/20000\n",
      "30000/20000\n",
      "31000/20000\n",
      "32000/20000\n"
     ]
    }
   ],
   "source": [
    "# упс, не убрал отладку в препроце\n",
    "toxic_classifier_l_w2v = ToxicClassifier(\n",
    "    l_gensim_w2v,\n",
    "    gensim_lwiki,\n",
    ")"
   ]
  },
  {
   "cell_type": "code",
   "execution_count": 148,
   "id": "5fe2d8d8",
   "metadata": {},
   "outputs": [
    {
     "data": {
      "text/plain": [
       "['OK']"
      ]
     },
     "execution_count": 148,
     "metadata": {},
     "output_type": "execute_result"
    }
   ],
   "source": [
    "toxic_classifier_l_w2v.get_preds(\n",
    "    [\"Люди всё время меня спрашивают: знаю ли я Тайлера Дёрдена?\"],\n",
    "    verbose=True\n",
    ")"
   ]
  },
  {
   "cell_type": "code",
   "execution_count": 149,
   "id": "18109ac2",
   "metadata": {},
   "outputs": [
    {
     "data": {
      "text/plain": [
       "['Toxic']"
      ]
     },
     "execution_count": 149,
     "metadata": {},
     "output_type": "execute_result"
    }
   ],
   "source": [
    "toxic_classifier_l_w2v.get_preds(\n",
    "    [\"Как же я ненавижу австралийцев\"],\n",
    "    verbose=True\n",
    ")"
   ]
  },
  {
   "cell_type": "code",
   "execution_count": 150,
   "id": "f94fdc5b",
   "metadata": {},
   "outputs": [
    {
     "name": "stdout",
     "output_type": "stream",
     "text": [
      "36000/20000\n",
      "37000/20000\n",
      "              precision    recall  f1-score   support\n",
      "\n",
      "         0.0       0.84      0.91      0.87       980\n",
      "         1.0       0.77      0.63      0.69       462\n",
      "\n",
      "    accuracy                           0.82      1442\n",
      "   macro avg       0.80      0.77      0.78      1442\n",
      "weighted avg       0.82      0.82      0.82      1442\n",
      "\n"
     ]
    }
   ],
   "source": [
    "print(\n",
    "    classification_report(\n",
    "        TEST[\"toxic\"],\n",
    "        toxic_classifier_l_w2v.get_preds(\n",
    "            TEST[\"comment\"]\n",
    "        ),\n",
    "        zero_division=0\n",
    "    )\n",
    ")"
   ]
  },
  {
   "cell_type": "markdown",
   "id": "8e8ca3b7",
   "metadata": {},
   "source": [
    "#### Как и ожидалось, с лемматизацией лучше"
   ]
  },
  {
   "cell_type": "markdown",
   "id": "60c18c5a",
   "metadata": {},
   "source": [
    "# Задание 4 (2 доп балла)\n",
    "\n",
    "В тетрадку с фастекстом добавьте код для обучения с negative sampling (задача сводится к бинарной классификации) и обучите модель. Проверьте полученную модель на нескольких словах. Похожие слова должны быть похожими по смыслу и по форме."
   ]
  },
  {
   "cell_type": "code",
   "execution_count": 2,
   "id": "fda29996",
   "metadata": {},
   "outputs": [],
   "source": [
    "wiki = open('data/wiki_data.txt').read().split('\\n')"
   ]
  },
  {
   "cell_type": "code",
   "execution_count": 3,
   "id": "b0547b6f",
   "metadata": {},
   "outputs": [],
   "source": [
    "import re\n",
    "from collections import Counter\n",
    "def tokenize(text):\n",
    "    tokens = re.sub('#+', ' ', text.lower()).split()\n",
    "    tokens = [token.strip(punctuation) for token in tokens]\n",
    "    tokens = [token for token in tokens if token]\n",
    "    return tokens\n"
   ]
  },
  {
   "cell_type": "code",
   "execution_count": 4,
   "id": "4486ebd9",
   "metadata": {},
   "outputs": [],
   "source": [
    "def ngrammer(raw_string, n=2):\n",
    "    ngrams = []\n",
    "    raw_string = ''.join(['<', raw_string, '>'])\n",
    "    for i in range(0,len(raw_string)-n+1):\n",
    "        ngram = ''.join(raw_string[i:i+n])\n",
    "        if ngram == '<' or ngram == '>': # сами по себе <> как токены не нужны\n",
    "            continue\n",
    "        ngrams.append(ngram)\n",
    "    return ngrams"
   ]
  },
  {
   "cell_type": "code",
   "execution_count": 5,
   "id": "e985f285",
   "metadata": {},
   "outputs": [],
   "source": [
    "def split_tokens(tokens, min_ngram_size, max_ngram_size):\n",
    "    tokens_with_subwords = []\n",
    "    for token in tokens:\n",
    "        subtokens = []\n",
    "        for i in range(min_ngram_size, max_ngram_size+1):\n",
    "            if len(token) > i:\n",
    "                subtokens.extend(ngrammer(token, i))\n",
    "        tokens_with_subwords.append(subtokens)\n",
    "    return tokens_with_subwords"
   ]
  },
  {
   "cell_type": "code",
   "execution_count": 6,
   "id": "b5354eb3",
   "metadata": {},
   "outputs": [],
   "source": [
    "class SubwordTokenizer:\n",
    "    def __init__(self, ngram_range=(1,1), min_count=5):\n",
    "        self.min_ngram_size, self.max_ngram_size = ngram_range\n",
    "        self.min_count = min_count\n",
    "        self.subword_vocab = None\n",
    "        self.fullword_vocab = None\n",
    "        self.vocab = None\n",
    "        self.id2word = None\n",
    "        self.word2id = None\n",
    "\n",
    "    def build_vocab(self, texts):\n",
    "        # чтобы построить словарь нужно пройти по всему корпусу и собрать частоты всех уникальных слов и нграммов\n",
    "        unfiltered_subword_vocab = Counter()\n",
    "        unfiltered_fullword_vocab = Counter()\n",
    "        for text in texts:\n",
    "            tokens = tokenize(text)\n",
    "            unfiltered_fullword_vocab.update(tokens)\n",
    "            subwords_per_token = split_tokens(tokens, self.min_ngram_size, self.max_ngram_size)\n",
    "            for subwords in subwords_per_token:\n",
    "                # в одном слове могут быть одинаковые нграммы поэтому возьмем только уникальные\n",
    "                unfiltered_subword_vocab.update(set(subwords))\n",
    "\n",
    "        self.fullword_vocab = set()\n",
    "        self.subword_vocab = set()\n",
    "\n",
    "        # теперь отфильтруем по частоте\n",
    "        for word, count in unfiltered_fullword_vocab.items():\n",
    "            if count >= self.min_count:\n",
    "                self.fullword_vocab.add(word)\n",
    "        # для нграммов сделаем порог побольше чтобы не создавать слишком много нграммов\n",
    "        # и учитывать только действительно частотные\n",
    "        for word, count in unfiltered_subword_vocab.items():\n",
    "            if count >= (self.min_count * 100):\n",
    "                self.subword_vocab.add(word)\n",
    "\n",
    "        # общий словарь\n",
    "        self.vocab = self.fullword_vocab | self.subword_vocab\n",
    "        self.id2word = {i:word for i,word in enumerate(self.vocab)}\n",
    "        self.word2id = {word:i for i,word in self.id2word.items()}\n",
    "\n",
    "    def subword_tokenize(self, text):\n",
    "        if self.vocab is None:\n",
    "            raise AttributeError('Vocabulary is not built!')\n",
    "        # разбиваем на токены\n",
    "        tokens = tokenize(text) \n",
    "        # каждый токен разбиваем на символьные нграммы\n",
    "        tokens_with_subwords = split_tokens(tokens, self.min_ngram_size, self.max_ngram_size)\n",
    "        # оставляет только токены и нграммы которые есть в словаре\n",
    "        only_vocab_tokens_with_subwords = []\n",
    "        for full_token, sub_tokens in zip(tokens, tokens_with_subwords):\n",
    "            filtered = []\n",
    "            if full_token in self.vocab:\n",
    "                # само слово и нграммы хранятся в одном списке \n",
    "                # но слово будет всегда первым в списке\n",
    "                filtered.append(full_token)\n",
    "            filtered.extend([subtoken for subtoken in set(sub_tokens) if subtoken in self.vocab])\n",
    "            only_vocab_tokens_with_subwords.append(filtered)\n",
    "\n",
    "        return only_vocab_tokens_with_subwords\n",
    "\n",
    "    def encode(self, subword_tokenized_text):\n",
    "        # маппим токены и нграммы в их индексы в словаре\n",
    "        encoded_text = []\n",
    "        for token in subword_tokenized_text:\n",
    "            if not token:\n",
    "                continue\n",
    "            encoded_text.append([self.word2id[token[0]]] + [self.word2id[t] for t in set(token[1:]) if t in self.word2id and t != token[0]])\n",
    "        return encoded_text\n",
    "\n",
    "    def __call__(self, text):\n",
    "        return self.encode(self.subword_tokenize(text))"
   ]
  },
  {
   "cell_type": "code",
   "execution_count": 7,
   "id": "fe147829",
   "metadata": {},
   "outputs": [],
   "source": [
    "tokenizer = SubwordTokenizer(ngram_range=(2,4), min_count=10)"
   ]
  },
  {
   "cell_type": "code",
   "execution_count": 12,
   "id": "c1229fc4",
   "metadata": {},
   "outputs": [],
   "source": [
    "tokenizer.build_vocab(wiki)"
   ]
  },
  {
   "cell_type": "code",
   "execution_count": 16,
   "id": "6af56129",
   "metadata": {},
   "outputs": [],
   "source": [
    "def gen_batches_ft_ns(sentences, tokenizer:SubwordTokenizer, window = 5, batch_size=1000, maxlen=20):\n",
    "    \n",
    "    \n",
    "    left_context_length = (window/2).__ceil__() \n",
    "    right_context_length = window // 2 \n",
    "\n",
    "    vocab_size= len(tokenizer.vocab)\n",
    "    \n",
    "    while True:\n",
    "        X_target = []\n",
    "        X_context = []\n",
    "        y = []\n",
    "\n",
    "        for sent in sentences:\n",
    "            sent = tokenizer(sent)\n",
    "\n",
    "            for i in range(len(sent)-1):\n",
    "                word_with_subtokens = sent[i]\n",
    "                context = sent[max(0, i-left_context_length):i] + sent[i+1:i+right_context_length]\n",
    "                for context_word_with_subtokens in context:\n",
    "\n",
    "                    only_full_word_context_token = context_word_with_subtokens[0]\n",
    "\n",
    "                    X_target.append(word_with_subtokens)\n",
    "                    X_context.append(only_full_word_context_token)\n",
    "                    y.append(1)\n",
    "                    \n",
    "                    X_target.append(word_with_subtokens)\n",
    "                    X_context.append(np.random.randint(vocab_size))\n",
    "                    y.append(0)\n",
    "                    \n",
    "                    if len(X_target) >= batch_size*2:\n",
    "                        X_target  = np.array(keras.preprocessing.sequence.pad_sequences(X_target , maxlen=maxlen))\n",
    "                        X_context = np.array(X_context)\n",
    "                        y = np.array(y)\n",
    "                        yield ((X_target, X_context), y)\n",
    "                        X_target  = []\n",
    "                        X_context = []\n",
    "                        y = []"
   ]
  },
  {
   "cell_type": "code",
   "execution_count": 17,
   "id": "dc7da89a",
   "metadata": {},
   "outputs": [],
   "source": [
    "gen = gen_batches_ft_ns(wiki, tokenizer, batch_size=5)"
   ]
  },
  {
   "cell_type": "code",
   "execution_count": 18,
   "id": "6f4f1687",
   "metadata": {},
   "outputs": [
    {
     "data": {
      "text/plain": [
       "((array([[16687,  7662, 51318, 51700, 32398, 37695,  5846, 47583, 43335,\n",
       "          46355, 17927, 24683, 26257, 14499, 16236, 50899,  9555, 25997,\n",
       "          43134, 30033],\n",
       "         [16687,  7662, 51318, 51700, 32398, 37695,  5846, 47583, 43335,\n",
       "          46355, 17927, 24683, 26257, 14499, 16236, 50899,  9555, 25997,\n",
       "          43134, 30033],\n",
       "         [34194, 47311, 45587, 16124, 27008, 40705, 32190,  8502, 12028,\n",
       "           5145, 38760, 18456,  3015, 41781, 18892, 22273,  9985,  6155,\n",
       "          50181, 43134],\n",
       "         [34194, 47311, 45587, 16124, 27008, 40705, 32190,  8502, 12028,\n",
       "           5145, 38760, 18456,  3015, 41781, 18892, 22273,  9985,  6155,\n",
       "          50181, 43134],\n",
       "         [34194, 47311, 45587, 16124, 27008, 40705, 32190,  8502, 12028,\n",
       "           5145, 38760, 18456,  3015, 41781, 18892, 22273,  9985,  6155,\n",
       "          50181, 43134],\n",
       "         [34194, 47311, 45587, 16124, 27008, 40705, 32190,  8502, 12028,\n",
       "           5145, 38760, 18456,  3015, 41781, 18892, 22273,  9985,  6155,\n",
       "          50181, 43134],\n",
       "         [39352, 26991, 45448, 23601, 27862, 51700, 39200,  7889,  9651,\n",
       "          50420, 37816, 21183, 23345, 13342, 40778, 40667, 19368, 47217,\n",
       "          29118, 27429],\n",
       "         [39352, 26991, 45448, 23601, 27862, 51700, 39200,  7889,  9651,\n",
       "          50420, 37816, 21183, 23345, 13342, 40778, 40667, 19368, 47217,\n",
       "          29118, 27429],\n",
       "         [39352, 26991, 45448, 23601, 27862, 51700, 39200,  7889,  9651,\n",
       "          50420, 37816, 21183, 23345, 13342, 40778, 40667, 19368, 47217,\n",
       "          29118, 27429],\n",
       "         [39352, 26991, 45448, 23601, 27862, 51700, 39200,  7889,  9651,\n",
       "          50420, 37816, 21183, 23345, 13342, 40778, 40667, 19368, 47217,\n",
       "          29118, 27429]], dtype=int32),\n",
       "  array([52201, 34999, 40915, 54481, 11699, 37839, 40915, 38288, 52201,\n",
       "         43084])),\n",
       " array([1, 0, 1, 0, 1, 0, 1, 0, 1, 0]))"
      ]
     },
     "execution_count": 18,
     "metadata": {},
     "output_type": "execute_result"
    }
   ],
   "source": [
    "next(gen)"
   ]
  },
  {
   "cell_type": "code",
   "execution_count": 19,
   "id": "74956c32",
   "metadata": {},
   "outputs": [],
   "source": [
    "class FasttextNS:\n",
    "    inputs_target  = keras.layers.Input(shape=(20,)) \n",
    "    inputs_context = keras.layers.Input(shape=(1,)) \n",
    "\n",
    "    embeddings_target  = keras.layers.Embedding(input_dim=len(tokenizer.vocab), output_dim=100)(inputs_target)\n",
    "    embeddings_context = keras.layers.Embedding(input_dim=len(tokenizer.vocab), output_dim=100)(inputs_context)\n",
    "\n",
    "    target  = keras.layers.Lambda(lambda x: x.mean(axis=1))(embeddings_target)\n",
    "    context = keras.layers.Lambda(lambda x: x.mean(axis=1))(embeddings_context)\n",
    "\n",
    "    dot = keras.layers.Dot(1)([target, context])\n",
    "    outputs = keras.layers.Activation(activation='sigmoid')(dot)\n",
    "\n",
    "    model = keras.Model(inputs=[inputs_target, inputs_context], outputs=outputs)\n",
    "\n",
    "    optimizer = keras.optimizers.Adam(learning_rate=0.001)\n",
    "    model.compile(optimizer=optimizer,\n",
    "                    loss='binary_crossentropy',\n",
    "                    metrics=['accuracy'])\n",
    "    model.build((None, 10))"
   ]
  },
  {
   "cell_type": "code",
   "execution_count": 20,
   "id": "2dbb5c56",
   "metadata": {},
   "outputs": [
    {
     "data": {
      "text/html": [
       "<pre style=\"white-space:pre;overflow-x:auto;line-height:normal;font-family:Menlo,'DejaVu Sans Mono',consolas,'Courier New',monospace\"><span style=\"font-weight: bold\">Model: \"functional\"</span>\n",
       "</pre>\n"
      ],
      "text/plain": [
       "\u001b[1mModel: \"functional\"\u001b[0m\n"
      ]
     },
     "metadata": {},
     "output_type": "display_data"
    },
    {
     "data": {
      "text/html": [
       "<pre style=\"white-space:pre;overflow-x:auto;line-height:normal;font-family:Menlo,'DejaVu Sans Mono',consolas,'Courier New',monospace\">┏━━━━━━━━━━━━━━━━━━━━━┳━━━━━━━━━━━━━━━━━━━┳━━━━━━━━━━━━┳━━━━━━━━━━━━━━━━━━━┓\n",
       "┃<span style=\"font-weight: bold\"> Layer (type)        </span>┃<span style=\"font-weight: bold\"> Output Shape      </span>┃<span style=\"font-weight: bold\">    Param # </span>┃<span style=\"font-weight: bold\"> Connected to      </span>┃\n",
       "┡━━━━━━━━━━━━━━━━━━━━━╇━━━━━━━━━━━━━━━━━━━╇━━━━━━━━━━━━╇━━━━━━━━━━━━━━━━━━━┩\n",
       "│ input_layer         │ (<span style=\"color: #00d7ff; text-decoration-color: #00d7ff\">None</span>, <span style=\"color: #00af00; text-decoration-color: #00af00\">20</span>)        │          <span style=\"color: #00af00; text-decoration-color: #00af00\">0</span> │ -                 │\n",
       "│ (<span style=\"color: #0087ff; text-decoration-color: #0087ff\">InputLayer</span>)        │                   │            │                   │\n",
       "├─────────────────────┼───────────────────┼────────────┼───────────────────┤\n",
       "│ input_layer_1       │ (<span style=\"color: #00d7ff; text-decoration-color: #00d7ff\">None</span>, <span style=\"color: #00af00; text-decoration-color: #00af00\">1</span>)         │          <span style=\"color: #00af00; text-decoration-color: #00af00\">0</span> │ -                 │\n",
       "│ (<span style=\"color: #0087ff; text-decoration-color: #0087ff\">InputLayer</span>)        │                   │            │                   │\n",
       "├─────────────────────┼───────────────────┼────────────┼───────────────────┤\n",
       "│ embedding           │ (<span style=\"color: #00d7ff; text-decoration-color: #00d7ff\">None</span>, <span style=\"color: #00af00; text-decoration-color: #00af00\">20</span>, <span style=\"color: #00af00; text-decoration-color: #00af00\">100</span>)   │  <span style=\"color: #00af00; text-decoration-color: #00af00\">5,486,000</span> │ input_layer[<span style=\"color: #00af00; text-decoration-color: #00af00\">0</span>][<span style=\"color: #00af00; text-decoration-color: #00af00\">0</span>] │\n",
       "│ (<span style=\"color: #0087ff; text-decoration-color: #0087ff\">Embedding</span>)         │                   │            │                   │\n",
       "├─────────────────────┼───────────────────┼────────────┼───────────────────┤\n",
       "│ embedding_1         │ (<span style=\"color: #00d7ff; text-decoration-color: #00d7ff\">None</span>, <span style=\"color: #00af00; text-decoration-color: #00af00\">1</span>, <span style=\"color: #00af00; text-decoration-color: #00af00\">100</span>)    │  <span style=\"color: #00af00; text-decoration-color: #00af00\">5,486,000</span> │ input_layer_1[<span style=\"color: #00af00; text-decoration-color: #00af00\">0</span>]… │\n",
       "│ (<span style=\"color: #0087ff; text-decoration-color: #0087ff\">Embedding</span>)         │                   │            │                   │\n",
       "├─────────────────────┼───────────────────┼────────────┼───────────────────┤\n",
       "│ lambda (<span style=\"color: #0087ff; text-decoration-color: #0087ff\">Lambda</span>)     │ (<span style=\"color: #00d7ff; text-decoration-color: #00d7ff\">None</span>, <span style=\"color: #00af00; text-decoration-color: #00af00\">100</span>)       │          <span style=\"color: #00af00; text-decoration-color: #00af00\">0</span> │ embedding[<span style=\"color: #00af00; text-decoration-color: #00af00\">0</span>][<span style=\"color: #00af00; text-decoration-color: #00af00\">0</span>]   │\n",
       "├─────────────────────┼───────────────────┼────────────┼───────────────────┤\n",
       "│ lambda_1 (<span style=\"color: #0087ff; text-decoration-color: #0087ff\">Lambda</span>)   │ (<span style=\"color: #00d7ff; text-decoration-color: #00d7ff\">None</span>, <span style=\"color: #00af00; text-decoration-color: #00af00\">100</span>)       │          <span style=\"color: #00af00; text-decoration-color: #00af00\">0</span> │ embedding_1[<span style=\"color: #00af00; text-decoration-color: #00af00\">0</span>][<span style=\"color: #00af00; text-decoration-color: #00af00\">0</span>] │\n",
       "├─────────────────────┼───────────────────┼────────────┼───────────────────┤\n",
       "│ dot (<span style=\"color: #0087ff; text-decoration-color: #0087ff\">Dot</span>)           │ (<span style=\"color: #00d7ff; text-decoration-color: #00d7ff\">None</span>, <span style=\"color: #00af00; text-decoration-color: #00af00\">1</span>)         │          <span style=\"color: #00af00; text-decoration-color: #00af00\">0</span> │ lambda[<span style=\"color: #00af00; text-decoration-color: #00af00\">0</span>][<span style=\"color: #00af00; text-decoration-color: #00af00\">0</span>],     │\n",
       "│                     │                   │            │ lambda_1[<span style=\"color: #00af00; text-decoration-color: #00af00\">0</span>][<span style=\"color: #00af00; text-decoration-color: #00af00\">0</span>]    │\n",
       "├─────────────────────┼───────────────────┼────────────┼───────────────────┤\n",
       "│ activation          │ (<span style=\"color: #00d7ff; text-decoration-color: #00d7ff\">None</span>, <span style=\"color: #00af00; text-decoration-color: #00af00\">1</span>)         │          <span style=\"color: #00af00; text-decoration-color: #00af00\">0</span> │ dot[<span style=\"color: #00af00; text-decoration-color: #00af00\">0</span>][<span style=\"color: #00af00; text-decoration-color: #00af00\">0</span>]         │\n",
       "│ (<span style=\"color: #0087ff; text-decoration-color: #0087ff\">Activation</span>)        │                   │            │                   │\n",
       "└─────────────────────┴───────────────────┴────────────┴───────────────────┘\n",
       "</pre>\n"
      ],
      "text/plain": [
       "┏━━━━━━━━━━━━━━━━━━━━━┳━━━━━━━━━━━━━━━━━━━┳━━━━━━━━━━━━┳━━━━━━━━━━━━━━━━━━━┓\n",
       "┃\u001b[1m \u001b[0m\u001b[1mLayer (type)       \u001b[0m\u001b[1m \u001b[0m┃\u001b[1m \u001b[0m\u001b[1mOutput Shape     \u001b[0m\u001b[1m \u001b[0m┃\u001b[1m \u001b[0m\u001b[1m   Param #\u001b[0m\u001b[1m \u001b[0m┃\u001b[1m \u001b[0m\u001b[1mConnected to     \u001b[0m\u001b[1m \u001b[0m┃\n",
       "┡━━━━━━━━━━━━━━━━━━━━━╇━━━━━━━━━━━━━━━━━━━╇━━━━━━━━━━━━╇━━━━━━━━━━━━━━━━━━━┩\n",
       "│ input_layer         │ (\u001b[38;5;45mNone\u001b[0m, \u001b[38;5;34m20\u001b[0m)        │          \u001b[38;5;34m0\u001b[0m │ -                 │\n",
       "│ (\u001b[38;5;33mInputLayer\u001b[0m)        │                   │            │                   │\n",
       "├─────────────────────┼───────────────────┼────────────┼───────────────────┤\n",
       "│ input_layer_1       │ (\u001b[38;5;45mNone\u001b[0m, \u001b[38;5;34m1\u001b[0m)         │          \u001b[38;5;34m0\u001b[0m │ -                 │\n",
       "│ (\u001b[38;5;33mInputLayer\u001b[0m)        │                   │            │                   │\n",
       "├─────────────────────┼───────────────────┼────────────┼───────────────────┤\n",
       "│ embedding           │ (\u001b[38;5;45mNone\u001b[0m, \u001b[38;5;34m20\u001b[0m, \u001b[38;5;34m100\u001b[0m)   │  \u001b[38;5;34m5,486,000\u001b[0m │ input_layer[\u001b[38;5;34m0\u001b[0m][\u001b[38;5;34m0\u001b[0m] │\n",
       "│ (\u001b[38;5;33mEmbedding\u001b[0m)         │                   │            │                   │\n",
       "├─────────────────────┼───────────────────┼────────────┼───────────────────┤\n",
       "│ embedding_1         │ (\u001b[38;5;45mNone\u001b[0m, \u001b[38;5;34m1\u001b[0m, \u001b[38;5;34m100\u001b[0m)    │  \u001b[38;5;34m5,486,000\u001b[0m │ input_layer_1[\u001b[38;5;34m0\u001b[0m]… │\n",
       "│ (\u001b[38;5;33mEmbedding\u001b[0m)         │                   │            │                   │\n",
       "├─────────────────────┼───────────────────┼────────────┼───────────────────┤\n",
       "│ lambda (\u001b[38;5;33mLambda\u001b[0m)     │ (\u001b[38;5;45mNone\u001b[0m, \u001b[38;5;34m100\u001b[0m)       │          \u001b[38;5;34m0\u001b[0m │ embedding[\u001b[38;5;34m0\u001b[0m][\u001b[38;5;34m0\u001b[0m]   │\n",
       "├─────────────────────┼───────────────────┼────────────┼───────────────────┤\n",
       "│ lambda_1 (\u001b[38;5;33mLambda\u001b[0m)   │ (\u001b[38;5;45mNone\u001b[0m, \u001b[38;5;34m100\u001b[0m)       │          \u001b[38;5;34m0\u001b[0m │ embedding_1[\u001b[38;5;34m0\u001b[0m][\u001b[38;5;34m0\u001b[0m] │\n",
       "├─────────────────────┼───────────────────┼────────────┼───────────────────┤\n",
       "│ dot (\u001b[38;5;33mDot\u001b[0m)           │ (\u001b[38;5;45mNone\u001b[0m, \u001b[38;5;34m1\u001b[0m)         │          \u001b[38;5;34m0\u001b[0m │ lambda[\u001b[38;5;34m0\u001b[0m][\u001b[38;5;34m0\u001b[0m],     │\n",
       "│                     │                   │            │ lambda_1[\u001b[38;5;34m0\u001b[0m][\u001b[38;5;34m0\u001b[0m]    │\n",
       "├─────────────────────┼───────────────────┼────────────┼───────────────────┤\n",
       "│ activation          │ (\u001b[38;5;45mNone\u001b[0m, \u001b[38;5;34m1\u001b[0m)         │          \u001b[38;5;34m0\u001b[0m │ dot[\u001b[38;5;34m0\u001b[0m][\u001b[38;5;34m0\u001b[0m]         │\n",
       "│ (\u001b[38;5;33mActivation\u001b[0m)        │                   │            │                   │\n",
       "└─────────────────────┴───────────────────┴────────────┴───────────────────┘\n"
      ]
     },
     "metadata": {},
     "output_type": "display_data"
    },
    {
     "data": {
      "text/html": [
       "<pre style=\"white-space:pre;overflow-x:auto;line-height:normal;font-family:Menlo,'DejaVu Sans Mono',consolas,'Courier New',monospace\"><span style=\"font-weight: bold\"> Total params: </span><span style=\"color: #00af00; text-decoration-color: #00af00\">10,972,000</span> (41.85 MB)\n",
       "</pre>\n"
      ],
      "text/plain": [
       "\u001b[1m Total params: \u001b[0m\u001b[38;5;34m10,972,000\u001b[0m (41.85 MB)\n"
      ]
     },
     "metadata": {},
     "output_type": "display_data"
    },
    {
     "data": {
      "text/html": [
       "<pre style=\"white-space:pre;overflow-x:auto;line-height:normal;font-family:Menlo,'DejaVu Sans Mono',consolas,'Courier New',monospace\"><span style=\"font-weight: bold\"> Trainable params: </span><span style=\"color: #00af00; text-decoration-color: #00af00\">10,972,000</span> (41.85 MB)\n",
       "</pre>\n"
      ],
      "text/plain": [
       "\u001b[1m Trainable params: \u001b[0m\u001b[38;5;34m10,972,000\u001b[0m (41.85 MB)\n"
      ]
     },
     "metadata": {},
     "output_type": "display_data"
    },
    {
     "data": {
      "text/html": [
       "<pre style=\"white-space:pre;overflow-x:auto;line-height:normal;font-family:Menlo,'DejaVu Sans Mono',consolas,'Courier New',monospace\"><span style=\"font-weight: bold\"> Non-trainable params: </span><span style=\"color: #00af00; text-decoration-color: #00af00\">0</span> (0.00 B)\n",
       "</pre>\n"
      ],
      "text/plain": [
       "\u001b[1m Non-trainable params: \u001b[0m\u001b[38;5;34m0\u001b[0m (0.00 B)\n"
      ]
     },
     "metadata": {},
     "output_type": "display_data"
    }
   ],
   "source": [
    "FasttextNS.model.summary()"
   ]
  },
  {
   "cell_type": "code",
   "execution_count": 21,
   "id": "b3e1c7ab",
   "metadata": {},
   "outputs": [
    {
     "name": "stdout",
     "output_type": "stream",
     "text": [
      "Epoch 1/10\n",
      "\u001b[1m10000/10000\u001b[0m \u001b[32m━━━━━━━━━━━━━━━━━━━━\u001b[0m\u001b[37m\u001b[0m \u001b[1m97s\u001b[0m 10ms/step - accuracy: 0.7709 - loss: 0.4792 - val_accuracy: 0.7991 - val_loss: 0.4565\n",
      "Epoch 2/10\n",
      "\u001b[1m10000/10000\u001b[0m \u001b[32m━━━━━━━━━━━━━━━━━━━━\u001b[0m\u001b[37m\u001b[0m \u001b[1m98s\u001b[0m 10ms/step - accuracy: 0.8176 - loss: 0.4099 - val_accuracy: 0.8072 - val_loss: 0.4343\n",
      "Epoch 3/10\n",
      "\u001b[1m10000/10000\u001b[0m \u001b[32m━━━━━━━━━━━━━━━━━━━━\u001b[0m\u001b[37m\u001b[0m \u001b[1m99s\u001b[0m 10ms/step - accuracy: 0.8300 - loss: 0.3874 - val_accuracy: 0.8154 - val_loss: 0.4090\n",
      "Epoch 4/10\n",
      "\u001b[1m10000/10000\u001b[0m \u001b[32m━━━━━━━━━━━━━━━━━━━━\u001b[0m\u001b[37m\u001b[0m \u001b[1m99s\u001b[0m 10ms/step - accuracy: 0.8203 - loss: 0.4069 - val_accuracy: 0.8263 - val_loss: 0.3977\n",
      "Epoch 5/10\n",
      "\u001b[1m10000/10000\u001b[0m \u001b[32m━━━━━━━━━━━━━━━━━━━━\u001b[0m\u001b[37m\u001b[0m \u001b[1m97s\u001b[0m 10ms/step - accuracy: 0.8202 - loss: 0.4032 - val_accuracy: 0.8128 - val_loss: 0.4252\n",
      "Epoch 6/10\n",
      "\u001b[1m10000/10000\u001b[0m \u001b[32m━━━━━━━━━━━━━━━━━━━━\u001b[0m\u001b[37m\u001b[0m \u001b[1m99s\u001b[0m 10ms/step - accuracy: 0.8320 - loss: 0.3836 - val_accuracy: 0.8288 - val_loss: 0.3919\n",
      "Epoch 7/10\n",
      "\u001b[1m10000/10000\u001b[0m \u001b[32m━━━━━━━━━━━━━━━━━━━━\u001b[0m\u001b[37m\u001b[0m \u001b[1m102s\u001b[0m 10ms/step - accuracy: 0.8243 - loss: 0.3969 - val_accuracy: 0.8108 - val_loss: 0.4167\n",
      "Epoch 8/10\n",
      "\u001b[1m10000/10000\u001b[0m \u001b[32m━━━━━━━━━━━━━━━━━━━━\u001b[0m\u001b[37m\u001b[0m \u001b[1m103s\u001b[0m 10ms/step - accuracy: 0.8352 - loss: 0.3775 - val_accuracy: 0.8482 - val_loss: 0.3541\n",
      "Epoch 9/10\n",
      "\u001b[1m10000/10000\u001b[0m \u001b[32m━━━━━━━━━━━━━━━━━━━━\u001b[0m\u001b[37m\u001b[0m \u001b[1m101s\u001b[0m 10ms/step - accuracy: 0.8302 - loss: 0.3868 - val_accuracy: 0.8242 - val_loss: 0.3938\n",
      "Epoch 10/10\n",
      "\u001b[1m10000/10000\u001b[0m \u001b[32m━━━━━━━━━━━━━━━━━━━━\u001b[0m\u001b[37m\u001b[0m \u001b[1m103s\u001b[0m 10ms/step - accuracy: 0.8323 - loss: 0.3843 - val_accuracy: 0.8323 - val_loss: 0.3801\n"
     ]
    },
    {
     "data": {
      "text/plain": [
       "<keras.src.callbacks.history.History at 0x75c49a1b1f30>"
      ]
     },
     "execution_count": 21,
     "metadata": {},
     "output_type": "execute_result"
    }
   ],
   "source": [
    "FasttextNS.model.fit(\n",
    "    gen_batches_ft_ns(wiki[:19000],tokenizer, window=5, batch_size=100),\n",
    "    validation_data=gen_batches_ft_ns(wiki[19000:], tokenizer, window=5, batch_size=100),\n",
    "    batch_size=2000,\n",
    "    steps_per_epoch=10000,\n",
    "    validation_steps=100,\n",
    "    epochs=10\n",
    ")"
   ]
  },
  {
   "cell_type": "code",
   "execution_count": 22,
   "id": "9a26d76f",
   "metadata": {},
   "outputs": [
    {
     "name": "stdout",
     "output_type": "stream",
     "text": [
      "dict_keys(['accuracy', 'loss', 'val_accuracy', 'val_loss'])\n"
     ]
    },
    {
     "data": {
      "image/png": "[encoded data removed]",
      "text/plain": [
       "<Figure size 640x480 with 1 Axes>"
      ]
     },
     "metadata": {},
     "output_type": "display_data"
    }
   ],
   "source": [
    "print(FasttextNS.model.history.history.keys())\n",
    "# summarize history for accuracy\n",
    "plt.plot(FasttextNS.model.history.history['loss'])\n",
    "plt.plot(FasttextNS.model.history.history['val_loss'])\n",
    "plt.title('model loss')\n",
    "plt.ylabel('loss')\n",
    "plt.xlabel('epoch')\n",
    "plt.legend(['train', 'val'], loc='upper left')\n",
    "plt.show()"
   ]
  },
  {
   "cell_type": "code",
   "execution_count": 35,
   "id": "8c990766",
   "metadata": {},
   "outputs": [],
   "source": [
    "embeddings = FasttextNS.model.layers[3].get_weights()[0] # матрица со всеми эмбедингами"
   ]
  },
  {
   "cell_type": "code",
   "execution_count": 36,
   "id": "23c9465e",
   "metadata": {},
   "outputs": [
    {
     "data": {
      "text/plain": [
       "[<InputLayer name=input_layer, built=True>,\n",
       " <InputLayer name=input_layer_1, built=True>,\n",
       " <Embedding name=embedding, built=True>,\n",
       " <Embedding name=embedding_1, built=True>,\n",
       " <Lambda name=lambda, built=True>,\n",
       " <Lambda name=lambda_1, built=True>,\n",
       " <Dot name=dot, built=True>,\n",
       " <Activation name=activation, built=True>]"
      ]
     },
     "execution_count": 36,
     "metadata": {},
     "output_type": "execute_result"
    }
   ],
   "source": [
    "FasttextNS.model.layers"
   ]
  },
  {
   "cell_type": "code",
   "execution_count": 37,
   "id": "87c1e86f",
   "metadata": {},
   "outputs": [],
   "source": [
    "full_word_embeddings = np.zeros((len(tokenizer.fullword_vocab), 100)) # матрица с эмбедингами полных слов + нграммы\n",
    "id2word = list(tokenizer.fullword_vocab)\n",
    "\n",
    "for i, word in enumerate(tokenizer.fullword_vocab):\n",
    "    subwords = tokenizer(word)[0]\n",
    "    full_word_embeddings[i] = embeddings[[i for i in subwords]].mean(axis=0) "
   ]
  },
  {
   "cell_type": "code",
   "execution_count": 38,
   "id": "5e986c8a",
   "metadata": {},
   "outputs": [],
   "source": [
    "def most_similar_ft(word, embeddings, tokenizer):\n",
    "    subwords = tokenizer(word)[0]\n",
    "    word_embedding = embeddings[[i for i in subwords]].sum(axis=0)\n",
    "    # idxs = [tokenizer.word2id[i] for i in tokenizer.fullword_vocab]\n",
    "    similar = [id2word[i] for i in \n",
    "               cosine_distances(word_embedding.reshape(1, -1), full_word_embeddings).argsort()[0][:20]]\n",
    "    return similar"
   ]
  },
  {
   "cell_type": "code",
   "execution_count": 39,
   "id": "d27ed85c",
   "metadata": {},
   "outputs": [
    {
     "data": {
      "text/plain": [
       "['любовь',\n",
       " 'любовная',\n",
       " 'любовью',\n",
       " 'любовных',\n",
       " 'любовницей',\n",
       " 'любовница',\n",
       " 'любовной',\n",
       " 'любительскую',\n",
       " 'любовные',\n",
       " 'любовь»',\n",
       " 'любить',\n",
       " 'любительские',\n",
       " 'любителем',\n",
       " 'впечатлением',\n",
       " 'любительского',\n",
       " 'любовницы',\n",
       " '«академия',\n",
       " 'любовник',\n",
       " 'любовника',\n",
       " 'связывающая']"
      ]
     },
     "execution_count": 39,
     "metadata": {},
     "output_type": "execute_result"
    }
   ],
   "source": [
    "most_similar_ft('любовь', embeddings, tokenizer)"
   ]
  }
 ],
 "metadata": {
  "kernelspec": {
   "display_name": ".venv",
   "language": "python",
   "name": "python3"
  },
  "language_info": {
   "codemirror_mode": {
    "name": "ipython",
    "version": 3
   },
   "file_extension": ".py",
   "mimetype": "text/x-python",
   "name": "python",
   "nbconvert_exporter": "python",
   "pygments_lexer": "ipython3",
   "version": "3.10.12"
  }
 },
 "nbformat": 4,
 "nbformat_minor": 5
}
