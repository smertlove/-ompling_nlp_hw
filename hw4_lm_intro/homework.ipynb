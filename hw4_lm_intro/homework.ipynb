{
 "cells": [
  {
   "cell_type": "markdown",
   "id": "00fad453",
   "metadata": {},
   "source": [
    "# Домашнее задание № 4. Языковые модели"
   ]
  },
  {
   "cell_type": "markdown",
   "id": "5d056af4",
   "metadata": {},
   "source": [
    "## Задание 1 (8 баллов)."
   ]
  },
  {
   "cell_type": "markdown",
   "id": "d1f532a8",
   "metadata": {},
   "source": [
    "В семинаре для генерации мы использовали предположение маркова и считали, что слово зависит только от 1 предыдущего слова. Но ничто нам не мешает попробовать увеличить размер окна и учитывать два или даже три прошлых слова. Для них мы еще сможем собрать достаточно статистик и, логично предположить, что качество сгенерированного текста должно вырасти."
   ]
  },
  {
   "cell_type": "markdown",
   "id": "de743d1d",
   "metadata": {},
   "source": [
    "Попробуйте сделать языковую модель, которая будет учитывать два предыдущих слова при генерации текста.\n",
    "Сгенерируйте несколько текстов (3-5) и расчитайте перплексию получившейся модели. \n",
    "Можно использовать данные из семинара или любые другие (можно брать только часть текста, если считается слишком долго). Перплексию рассчитывайте на 10-50 отложенных предложениях (они не должны использоваться при сборе статистик).\n",
    "\n",
    "\n",
    "Подсказки:  \n",
    "    - нужно будет добавить еще один тэг \\<start>  \n",
    "    - можете использовать тот же подход с матрицей вероятностей, но по строкам хронить биграмы, а по колонкам униграммы \n",
    "    - тексты должны быть очень похожи на нормальные (если у вас получается рандомная каша, вы что-то делаете не так)\n",
    "    - у вас будут словари с индексами биграммов и униграммов, не перепутайте их при переводе индекса в слово - словарь биграммов будет больше словаря униграммов и все индексы из униграммного словаря будут формально подходить для словаря биграммов (не будет ошибки при id2bigram[unigram_id]), но маппинг при этом будет совершенно неправильным "
   ]
  },
  {
   "cell_type": "markdown",
   "id": "b9c81e62",
   "metadata": {},
   "source": [
    "#### Читаем файлы"
   ]
  },
  {
   "cell_type": "code",
   "execution_count": 162,
   "id": "d078056d",
   "metadata": {},
   "outputs": [],
   "source": [
    "def read_file(filepath: str) -> str:\n",
    "    with open(filepath, \"r\", encoding=\"utf-8\") as file:\n",
    "        data = file.read()\n",
    "    return data"
   ]
  },
  {
   "cell_type": "code",
   "execution_count": 212,
   "id": "be9a689c",
   "metadata": {},
   "outputs": [],
   "source": [
    "news_raw  = read_file(r\"./data/lenta.txt\")"
   ]
  },
  {
   "cell_type": "markdown",
   "id": "0cc7ac4f",
   "metadata": {},
   "source": [
    "#### Нормализация из лекции"
   ]
  },
  {
   "cell_type": "code",
   "execution_count": 164,
   "id": "08d46fc3",
   "metadata": {},
   "outputs": [],
   "source": [
    "from string import punctuation\n",
    "from razdel import sentenize\n",
    "from razdel import tokenize as razdel_tokenize\n",
    "import numpy as np"
   ]
  },
  {
   "cell_type": "code",
   "execution_count": 165,
   "id": "0bce113e",
   "metadata": {},
   "outputs": [],
   "source": [
    "def normalize(text):\n",
    "    normalized_text = [word.text.strip(punctuation) for word \\\n",
    "                                                            in razdel_tokenize(text)]\n",
    "    normalized_text = [word.lower() for word in normalized_text if word and len(word) < 20 ]\n",
    "    return normalized_text"
   ]
  },
  {
   "cell_type": "markdown",
   "id": "1a285a21",
   "metadata": {},
   "source": [
    "#### Моделируем."
   ]
  },
  {
   "cell_type": "code",
   "execution_count": 166,
   "id": "6afcef88",
   "metadata": {},
   "outputs": [],
   "source": [
    "from nltk.tokenize import sent_tokenize\n",
    "def ngrammer(tokens, n=2):\n",
    "    ngrams = []\n",
    "    for i in range(0,len(tokens)-n+1):\n",
    "        ngrams.append(' '.join(tokens[i:i+n]))\n",
    "    return ngrams"
   ]
  },
  {
   "cell_type": "code",
   "execution_count": 167,
   "id": "69f0f11d",
   "metadata": {},
   "outputs": [],
   "source": [
    "sentences_news  = [['<start>', '<start>'] + normalize(text) + ['<end>'] for text in sent_tokenize(news_raw[:5000000] )]"
   ]
  },
  {
   "cell_type": "code",
   "execution_count": 168,
   "id": "c86f5fbc",
   "metadata": {},
   "outputs": [],
   "source": [
    "from scipy.sparse import lil_matrix, csr_matrix, csc_matrix\n",
    "from collections import Counter"
   ]
  },
  {
   "cell_type": "code",
   "execution_count": 169,
   "id": "1fdd4a03",
   "metadata": {},
   "outputs": [],
   "source": [
    "class Model:\n",
    "\n",
    "    def __init__(self, sentences: list[str]):\n",
    "        \n",
    "        unigrams = Counter()\n",
    "        bigrams  = Counter()\n",
    "        trigrams = Counter()\n",
    "\n",
    "        for sentence in sentences:\n",
    "            unigrams.update(sentence)\n",
    "            bigrams .update(ngrammer(sentence))\n",
    "            trigrams.update(ngrammer(sentence, 3))\n",
    "\n",
    "        tmp_matrix = lil_matrix(\n",
    "            (\n",
    "                len(bigrams ),\n",
    "                len(unigrams),\n",
    "            )\n",
    "        )\n",
    "\n",
    "        self.id2unigram = list(unigrams)\n",
    "        self.id2bigram  = list(bigrams )\n",
    "\n",
    "        self.unigram2id = {unigram:i for i, unigram in enumerate(self.id2unigram)}\n",
    "        self.bigram2id  = {bigram :i for i, bigram  in enumerate(self.id2bigram )}\n",
    "\n",
    "        for trigram in trigrams:\n",
    "            bigram, word = trigram.rsplit(maxsplit=1)\n",
    "            tmp_matrix[self.bigram2id[bigram], self.unigram2id[word]] = trigrams[trigram] / bigrams[bigram]\n",
    "\n",
    "        self.matrix = csc_matrix(tmp_matrix)\n",
    "\n",
    "    @staticmethod\n",
    "    def apply_temperature(probas, temperature):\n",
    "        # логарифмирование и деление на температуру\n",
    "        log_probas = np.log(np.maximum(probas, 1e-10))  \n",
    "        adjusted_log_probas = log_probas / temperature\n",
    "        # чтобы получить честные вероятности, нужно применить софтмакс\n",
    "        exp_probas = np.exp(adjusted_log_probas)\n",
    "        adjusted_probabilities = exp_probas / np.sum(exp_probas)\n",
    "        return adjusted_probabilities\n",
    "\n",
    "    def generate(self, n=100, start='<start> <start>', temperature=1):\n",
    "        text = start.split()\n",
    "        current_idx = self.bigram2id[start]\n",
    "\n",
    "        for _ in range(n):\n",
    "\n",
    "            chosen_idx = np.random.choice(\n",
    "                self.matrix.shape[1],\n",
    "                p = self.apply_temperature(\n",
    "                    self.matrix[current_idx].toarray()[0],\n",
    "                    temperature=temperature\n",
    "                )\n",
    "            )\n",
    "\n",
    "            chosen = self.id2unigram[chosen_idx]\n",
    "            text.append(chosen)\n",
    "\n",
    "            if chosen == '<end>':\n",
    "                current_idx = self.bigram2id['<start> <start>']\n",
    "                text.extend(['<start>', '<start>'])\n",
    "            else:\n",
    "                current_idx = self.bigram2id[\" \".join(text[-2:])]\n",
    "                    \n",
    "        \n",
    "        return ' '.join(text)\n"
   ]
  },
  {
   "cell_type": "code",
   "execution_count": 170,
   "id": "2e725b0f",
   "metadata": {},
   "outputs": [],
   "source": [
    "lenta_model = Model(sentences_news)"
   ]
  },
  {
   "cell_type": "code",
   "execution_count": 171,
   "id": "f6a5d809",
   "metadata": {},
   "outputs": [
    {
     "name": "stdout",
     "output_type": "stream",
     "text": [
      " делом занимаются три адвоката специалисты по финансовым операциям корреспондентские связи между операционной системой linux \n",
      "  в частности в калининградской области в качестве первоочередной экстренной меры олег миронов сообщил что талибы давно планировали установить с чечней мирных жителей из города наска\n"
     ]
    }
   ],
   "source": [
    "print(\n",
    "    lenta_model.generate(n=40)\n",
    "        .replace(\"<start> <start>\", \"\")\n",
    "        .replace(\"<end>\", \"\\n\")\n",
    ")"
   ]
  },
  {
   "cell_type": "code",
   "execution_count": 172,
   "id": "8f6245d4",
   "metadata": {},
   "outputs": [
    {
     "name": "stdout",
     "output_type": "stream",
     "text": [
      " в настоящее время в россии \n",
      "  в настоящее время в составе делегации министр внутренних дел россии игорь иванов \n",
      "  в настоящее время в разработке кремлевских сценариев по понижению рейтинга избирательного блока отечество вся россия \n",
      "  в настоящее время в москве\n"
     ]
    }
   ],
   "source": [
    "print(\n",
    "    lenta_model.generate(n=40, temperature=0.01)\n",
    "        .replace(\"<start> <start>\", \"\")\n",
    "        .replace(\"<end>\", \"\\n\")\n",
    ")"
   ]
  },
  {
   "cell_type": "code",
   "execution_count": 173,
   "id": "4b9f17ef",
   "metadata": {},
   "outputs": [
    {
     "name": "stdout",
     "output_type": "stream",
     "text": [
      " 56 человек погибли 7821 получили ранения \n",
      "  причем один из последних укрепрайонов боевиков на ближних подступах к грозному вообще подходить нельзя нужно забрать гражданских и оставить на потом \n",
      "  кроме мост-банка проверка проводится в отношении своего присутствия в приднестровье означает\n"
     ]
    }
   ],
   "source": [
    "print(\n",
    "    lenta_model.generate(n=40, temperature=1.5)\n",
    "        .replace(\"<start> <start>\", \"\")\n",
    "        .replace(\"<end>\", \"\\n\")\n",
    ")"
   ]
  },
  {
   "cell_type": "code",
   "execution_count": 180,
   "id": "d39786eb",
   "metadata": {},
   "outputs": [],
   "source": [
    "# функции возвращают лог (чтобы проверить с первой функцией можно добавить np.exp(prob))\n",
    "def compute_joint_proba(text, word_probas):\n",
    "    prob = 0\n",
    "    tokens = normalize(text)\n",
    "    for word in tokens:\n",
    "        if word in word_probas:\n",
    "            prob += (np.log(word_probas[word]))\n",
    "        else:\n",
    "            prob += np.log(2e-4)\n",
    "    \n",
    "    return prob, len(tokens)\n",
    "\n",
    "def perplexity(logp, N):\n",
    "    return np.exp((-1/N) * logp)"
   ]
  },
  {
   "cell_type": "code",
   "execution_count": 176,
   "id": "0336ffd8",
   "metadata": {},
   "outputs": [],
   "source": [
    "fresh_corpus = news_raw[5000000:]"
   ]
  },
  {
   "cell_type": "code",
   "execution_count": 177,
   "id": "aaf5a13b",
   "metadata": {},
   "outputs": [
    {
     "data": {
      "text/plain": [
       "6536552"
      ]
     },
     "execution_count": 177,
     "metadata": {},
     "output_type": "execute_result"
    }
   ],
   "source": [
    "len(fresh_corpus)"
   ]
  },
  {
   "cell_type": "code",
   "execution_count": 178,
   "id": "798dd84d",
   "metadata": {},
   "outputs": [],
   "source": [
    "norm_fresh = normalize(fresh_corpus)\n",
    "vocab_fresh = Counter(norm_fresh)\n",
    "probas_fresh = Counter({word:c/len(norm_fresh) for word, c in vocab_fresh.items()})"
   ]
  },
  {
   "cell_type": "code",
   "execution_count": 179,
   "id": "fc3cb11f",
   "metadata": {},
   "outputs": [
    {
     "data": {
      "text/plain": [
       "[('в', 0.04898059737390862),\n",
       " ('и', 0.021790300321547912),\n",
       " ('на', 0.019109566809343337),\n",
       " ('по', 0.012699624744010965),\n",
       " ('что', 0.010921420415140073),\n",
       " ('с', 0.010537290917964418),\n",
       " ('не', 0.00827104364131412),\n",
       " ('из', 0.005248213038919674),\n",
       " ('о', 0.004815045733593934),\n",
       " ('как', 0.0045873701957542595)]"
      ]
     },
     "execution_count": 179,
     "metadata": {},
     "output_type": "execute_result"
    }
   ],
   "source": [
    "probas_fresh.most_common(10)"
   ]
  },
  {
   "cell_type": "code",
   "execution_count": 184,
   "id": "a048be33",
   "metadata": {},
   "outputs": [],
   "source": [
    "texts = (\n",
    "    lenta_model.generate(n=500)\n",
    "        .replace(\"<start> <start>\", \"\")\n",
    "        .replace(\"<end>\", \"\\n\")\n",
    ").split(\"\\n\")"
   ]
  },
  {
   "cell_type": "code",
   "execution_count": 185,
   "id": "493859b0",
   "metadata": {},
   "outputs": [
    {
     "data": {
      "text/plain": [
       "[' его звонок был выведен в прямой эфир нтв где в 1997 году когда церковьпыталась примирить противостоящие стороны а также выступать с более взвешенными заявлениями сегодня борис березовский зарегистрирован кандидатом в депутаты госдумы по 212 одномандатному округу ',\n",
       " '  антимонопольное ведомство минюста сша и 19 изобретений ',\n",
       " '  а с ',\n",
       " '  за минувшие сутки вертолеты федеральных войскнаносили удары по базам боевиков в грозном продолжаются ожесточенные бои федеральные войска пытаются окончательно замкнуть кольцо вокруг грозного ',\n",
       " '  как сообщает bbc в ночь на 31 что сделано с тем режим работы отметил министр ',\n",
       " '  в конечном счете в те же фамилии сказалибы что эти средства предполагается получить у владельца находки дальневосточной российской компании сообщает риа новости сообщили в гувд столицы с ходатайством о проверке всехпартий ядерных грузов поступивших в органы государственной власти и организаций прекрасно осведомлены о создавшейся ситуации необходимо вступить в контакты с посольствами и консульствами этих стран ',\n",
       " '  как сообщили в пресс-центре объединенной группировки войск насеверном кавказе ',\n",
       " '  на месте трагедии ',\n",
       " '  проверялись аппарат главка и его замене на губернатора ',\n",
       " '  его разработку вместе с тем он отметил что указанные решения могут быть эти активные шаги в отчете не приводятся ',\n",
       " '  в тот же человек не имеющих государственной аккредитации подлежат призыву на военную службу ',\n",
       " '  в кпрф евгений примаков и другие вопросы ',\n",
       " '  запрет на ведение переговоров останется мало шансов ',\n",
       " '  удалось также выдержать основные макроэкономические параметры экономической программы строительства международной космической станции под эгидой оон создается своего рода переворот в стране за новогоднюю ночь услуги видеооператоров стоят еще дороже чем многоразовые ',\n",
       " '  подчеркнув что нет абсолютно никаких доказательств участия средств мвф в азии особенно в условиях наступающей зимы такая непродуманная ценовая политика федерального ведомства приведет к монополии на оптовый оборот табачных изделий пристрастить к курению в том что именно геннадий селезнев ',\n",
       " '  власти опасаются что деньги в одном союза а в том числе сотрудников мвд ингушетиипроводится досмотр беженцев и вынужденных переселенцев сохранится возможность беспошлинного ввоза только автомобилей произведенных в россии уже направил мне официальное приглашение принять участие в махинациях в результате приобретения в четверг министр топлива и энергетики виктора калюжного протокол собрания акционеров которых представлял министр топлива и энергетики виктора калюжного протокол собрания акционеров оао ак транснефть ',\n",
       " '  возможно оно было подтянуто чтобы оказать посильное содействие проведению объективного расследования преступления ',\n",
       " '  с российской стороной в ходе операции сотрудники правоохранительных органов была задержана группа хакеров ограбивших местный банк на сумму 13 миллиардов рублей ',\n",
       " '  прибывшие на место происшествия прибыли журналисты из других источников в охотном ряду ',\n",
       " '  на втором штурмовике су-25 следовал за этим ',\n",
       " '  сейчас готовимся к нестандартному отношению членов мосгоризбиркома к нашим кандидатам тщательно проверяем формы подписных листов уже на станции метро со своими посольствами или консульствами в ночь на понедельник в аргунском ущелье боевики захватили несколько господствующих высот где проводят работы по подготовке и проведению выборов президента россии о том что спид продолжает распространяться стремительными темпами а люди больные спидом и их семьи остались в ашхабаде так как того требует закон а нам нечего им противопоставить заявил он 29 сентября государственная дума российской федерации нового субъекта принадлежит субъекту рф территориальные границы']"
      ]
     },
     "execution_count": 185,
     "metadata": {},
     "output_type": "execute_result"
    }
   ],
   "source": [
    "texts"
   ]
  },
  {
   "cell_type": "code",
   "execution_count": 186,
   "id": "b5f19614",
   "metadata": {},
   "outputs": [],
   "source": [
    "pps = []\n",
    "for text in texts:\n",
    "    pps.append(\n",
    "        perplexity(*compute_joint_proba(\n",
    "            text,\n",
    "            probas_fresh\n",
    "        ))\n",
    "    )"
   ]
  },
  {
   "cell_type": "code",
   "execution_count": 189,
   "id": "f382f997",
   "metadata": {},
   "outputs": [
    {
     "data": {
      "text/plain": [
       "np.float64(4216.453570165646)"
      ]
     },
     "execution_count": 189,
     "metadata": {},
     "output_type": "execute_result"
    }
   ],
   "source": [
    "np.mean(pps)"
   ]
  },
  {
   "cell_type": "markdown",
   "id": "8e0a8dd5",
   "metadata": {},
   "source": [
    "## Задание № 2* (2 балла). "
   ]
  },
  {
   "cell_type": "markdown",
   "id": "f733858c",
   "metadata": {},
   "source": [
    "Измените функцию generate_with_beam_search так, чтобы она работала с моделью, которая учитывает два предыдущих слова. \n",
    "Сравните получаемый результат с первым заданием. \n",
    "Также попробуйте начинать генерацию не с нуля (подавая \\<start> \\<start>), а с какого-то промпта. Но помните, что учитываться будут только два последних слова, так что не делайте длинные промпты."
   ]
  },
  {
   "cell_type": "code",
   "execution_count": 193,
   "id": "aea1c69e",
   "metadata": {},
   "outputs": [],
   "source": [
    "# сделаем класс чтобы хранить каждый из лучей\n",
    "class Beam:\n",
    "    def __init__(self, sequence: list, score: float):\n",
    "        self.sequence: list = sequence\n",
    "        self.score: float = score"
   ]
  },
  {
   "cell_type": "code",
   "execution_count": 202,
   "id": "2bcde42d",
   "metadata": {},
   "outputs": [],
   "source": [
    "def generate_with_beam_search(\n",
    "    model: Model,\n",
    "    n=100,\n",
    "    max_beams=5,\n",
    "    start='<start> <start>'\n",
    ") :\n",
    "    initial_node = Beam(sequence=start.split(), score=np.log1p(0))\n",
    "    beams = [initial_node]\n",
    "    for i in range(n):\n",
    "        new_beams = []\n",
    "\n",
    "        for beam in beams:\n",
    "\n",
    "            if beam.sequence[-1] == '<end>':\n",
    "                new_beams.append(beam)\n",
    "                continue\n",
    "\n",
    "            last_id = model.bigram2id[\n",
    "                \" \".join(beam.sequence[-2:])\n",
    "            ]\n",
    "\n",
    "            probas = model.matrix[last_id].toarray()[0]\n",
    "            top_idxs = probas.argsort()[:-(max_beams+1):-1]\n",
    "\n",
    "            for top_id in top_idxs:\n",
    "                if not probas[top_id]:\n",
    "                    break\n",
    "\n",
    "                new_sequence = beam.sequence + [model.id2unigram[top_id]]\n",
    "\n",
    "                new_score = (beam.score + np.log1p(probas[top_id])) / len(new_sequence)\n",
    "                new_beam = Beam(sequence=new_sequence, score=new_score)\n",
    "                new_beams.append(new_beam)\n",
    "\n",
    "        beams = sorted(new_beams, key=lambda x: x.score, reverse=True)[:max_beams]\n",
    "    \n",
    "    sorted_sequences = sorted(beams, key=lambda x: x.score, reverse=True)\n",
    "    sorted_sequences = [\" \".join(beam.sequence) for beam in sorted_sequences]\n",
    "    return sorted_sequences"
   ]
  },
  {
   "cell_type": "code",
   "execution_count": 203,
   "id": "1c4d1b9d",
   "metadata": {},
   "outputs": [
    {
     "data": {
      "text/plain": [
       "['<start> <start> как сообщает риа новости <end>',\n",
       " '<start> <start> об этом риа новости <end>',\n",
       " '<start> <start> об этом сообщает риа новости <end>',\n",
       " '<start> <start> об этом сообщает агентство риа новости <end>',\n",
       " '<start> <start> об этом сообщает итар-тасс со ссылкой на пресс-службу мчс россии сергей шойгу <end>']"
      ]
     },
     "execution_count": 203,
     "metadata": {},
     "output_type": "execute_result"
    }
   ],
   "source": [
    "generate_with_beam_search(lenta_model)"
   ]
  },
  {
   "cell_type": "code",
   "execution_count": 204,
   "id": "f6d2ed0c",
   "metadata": {},
   "outputs": [
    {
     "data": {
      "text/plain": [
       "['<start> вечером накануне ареста кузнецова <end>',\n",
       " '<start> вечером накануне ареста кузнецова милиция новокузнецка по приказу наполеона <end>',\n",
       " '<start> вечером мадлен олбрайт <end>',\n",
       " '<start> вечером накануне ареста кузнецова милиция новокузнецка по приказу губернатора кемеровской области амана тулеева в руководстве корпорацииакции microsoft стали повышаться что значительно дороже чем многоразовые <end>',\n",
       " '<start> вечером накануне ареста кузнецова милиция новокузнецка по приказу губернатора кемеровской области амана тулеева в руководстве корпорацииакции microsoft стали повышаться что значительно дороже чем и без того непростое экономическое положение компании <end>']"
      ]
     },
     "execution_count": 204,
     "metadata": {},
     "output_type": "execute_result"
    }
   ],
   "source": [
    "generate_with_beam_search(lenta_model, start=\"<start> вечером\")"
   ]
  },
  {
   "cell_type": "code",
   "execution_count": 205,
   "id": "9ecce12c",
   "metadata": {},
   "outputs": [
    {
     "data": {
      "text/plain": [
       "['вечером на мине направленного действия подорвалась легковая машина <end>',\n",
       " 'вечером на мине оставленной немцами при отходе из севастополя <end>',\n",
       " 'вечером на мине заложенной террористами подорвалсяавтобус с индийскими военнослужащими <end>',\n",
       " 'вечером на экстренном заседании христианские демократы потребовали от баскских сепаратистов eta сообщает риа новости <end>',\n",
       " 'вечером на экстренном заседании христианские демократы потребовали от баскских сепаратистов eta сообщает риа новости со ссылкой на пресс-службу мчс россии сергей шойгу <end>']"
      ]
     },
     "execution_count": 205,
     "metadata": {},
     "output_type": "execute_result"
    }
   ],
   "source": [
    "generate_with_beam_search(lenta_model, start=\"вечером на\")"
   ]
  },
  {
   "cell_type": "code",
   "execution_count": 206,
   "id": "083a6fa3",
   "metadata": {},
   "outputs": [
    {
     "ename": "KeyError",
     "evalue": "'люблю маму'",
     "output_type": "error",
     "traceback": [
      "\u001b[1;31m---------------------------------------------------------------------------\u001b[0m",
      "\u001b[1;31mKeyError\u001b[0m                                  Traceback (most recent call last)",
      "Cell \u001b[1;32mIn[206], line 1\u001b[0m\n\u001b[1;32m----> 1\u001b[0m \u001b[43mgenerate_with_beam_search\u001b[49m\u001b[43m(\u001b[49m\u001b[43mlenta_model\u001b[49m\u001b[43m,\u001b[49m\u001b[43m \u001b[49m\u001b[43mstart\u001b[49m\u001b[38;5;241;43m=\u001b[39;49m\u001b[38;5;124;43m\"\u001b[39;49m\u001b[38;5;124;43mя люблю маму\u001b[39;49m\u001b[38;5;124;43m\"\u001b[39;49m\u001b[43m)\u001b[49m\n",
      "Cell \u001b[1;32mIn[202], line 18\u001b[0m, in \u001b[0;36mgenerate_with_beam_search\u001b[1;34m(model, n, max_beams, start)\u001b[0m\n\u001b[0;32m     15\u001b[0m     new_beams\u001b[38;5;241m.\u001b[39mappend(beam)\n\u001b[0;32m     16\u001b[0m     \u001b[38;5;28;01mcontinue\u001b[39;00m\n\u001b[1;32m---> 18\u001b[0m last_id \u001b[38;5;241m=\u001b[39m \u001b[43mmodel\u001b[49m\u001b[38;5;241;43m.\u001b[39;49m\u001b[43mbigram2id\u001b[49m\u001b[43m[\u001b[49m\n\u001b[0;32m     19\u001b[0m \u001b[43m    \u001b[49m\u001b[38;5;124;43m\"\u001b[39;49m\u001b[38;5;124;43m \u001b[39;49m\u001b[38;5;124;43m\"\u001b[39;49m\u001b[38;5;241;43m.\u001b[39;49m\u001b[43mjoin\u001b[49m\u001b[43m(\u001b[49m\u001b[43mbeam\u001b[49m\u001b[38;5;241;43m.\u001b[39;49m\u001b[43msequence\u001b[49m\u001b[43m[\u001b[49m\u001b[38;5;241;43m-\u001b[39;49m\u001b[38;5;241;43m2\u001b[39;49m\u001b[43m:\u001b[49m\u001b[43m]\u001b[49m\u001b[43m)\u001b[49m\n\u001b[0;32m     20\u001b[0m \u001b[43m\u001b[49m\u001b[43m]\u001b[49m\n\u001b[0;32m     22\u001b[0m probas \u001b[38;5;241m=\u001b[39m model\u001b[38;5;241m.\u001b[39mmatrix[last_id]\u001b[38;5;241m.\u001b[39mtoarray()[\u001b[38;5;241m0\u001b[39m]\n\u001b[0;32m     23\u001b[0m top_idxs \u001b[38;5;241m=\u001b[39m probas\u001b[38;5;241m.\u001b[39margsort()[:\u001b[38;5;241m-\u001b[39m(max_beams\u001b[38;5;241m+\u001b[39m\u001b[38;5;241m1\u001b[39m):\u001b[38;5;241m-\u001b[39m\u001b[38;5;241m1\u001b[39m]\n",
      "\u001b[1;31mKeyError\u001b[0m: 'люблю маму'"
     ]
    }
   ],
   "source": [
    "generate_with_beam_search(lenta_model, start=\"я люблю маму\")"
   ]
  },
  {
   "cell_type": "code",
   "execution_count": 210,
   "id": "f832fe88",
   "metadata": {},
   "outputs": [
    {
     "data": {
      "text/plain": [
       "['в ходе переговоров речь пойдет о развитии газификации <end>',\n",
       " 'в ходе переговоров посвященных развитию сотрудничества правоохранительных органов <end>',\n",
       " 'в ходе переговоров речь пойдет о юридическом закреплении в хартии югославского прецедента когда международное сообщество и наша страна лежит в руинах <end>',\n",
       " 'в ходе переговоров речь пойдет о юридическом закреплении в хартии югославского прецедента когда международное сообщество и наша страна поймут что эти люди ждали справедливости 50 лет <end>',\n",
       " 'в ходе переговоров речь пойдет о юридическом закреплении в хартии югославского прецедента когда международное сообщество и наша страна лежит в руинах выживших родных и близких <end>']"
      ]
     },
     "execution_count": 210,
     "metadata": {},
     "output_type": "execute_result"
    }
   ],
   "source": [
    "generate_with_beam_search(lenta_model, start=\"в ходе переговоров\")"
   ]
  }
 ],
 "metadata": {
  "kernelspec": {
   "display_name": ".venv",
   "language": "python",
   "name": "python3"
  },
  "language_info": {
   "codemirror_mode": {
    "name": "ipython",
    "version": 3
   },
   "file_extension": ".py",
   "mimetype": "text/x-python",
   "name": "python",
   "nbconvert_exporter": "python",
   "pygments_lexer": "ipython3",
   "version": "3.12.5"
  }
 },
 "nbformat": 4,
 "nbformat_minor": 5
}
